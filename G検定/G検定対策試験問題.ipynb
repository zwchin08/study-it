{
 "cells": [
  {
   "cell_type": "markdown",
   "id": "ad49eb47",
   "metadata": {},
   "source": [
    "# G検定対策　試験問題"
   ]
  },
  {
   "cell_type": "markdown",
   "id": "59f5f6c1",
   "metadata": {},
   "source": [
    "### <font color='green'>・以下のセルに学籍番号と氏名を記入してください。セルはMarkdown形式となっていますので、ダブルクリックして入力して下さい</font>"
   ]
  },
  {
   "cell_type": "markdown",
   "id": "46638948",
   "metadata": {},
   "source": [
    "学籍番号：　　221115　　　　　　　氏名：陳　正偉"
   ]
  },
  {
   "cell_type": "markdown",
   "id": "a511639d",
   "metadata": {},
   "source": [
    "### <font color='green'>・終了後、ファイル名を「学籍番号＋氏名.ipynb」に変更して提出して下さい。</font>"
   ]
  },
  {
   "cell_type": "markdown",
   "id": "6cde9068",
   "metadata": {},
   "source": [
    "#### 問１　人工知能の定義は専門家の間ですら異なる。その説明として最もよく当てはまる選択肢の番号を以下のセルに入力せよ\n",
    "\n",
    "１．人工知能は学術的な研究分野の1つとして認められていないから。  \n",
    "２．「人工」の解釈が研究者によって異なるから。  \n",
    "３．「知性」、「知能」の解釈が研究者によって異なるから。  \n",
    "４．人工知能という言葉は、人工知能研究者ジョン・マッカーシーが彼の論文で私的に使った造語だから。  \n"
   ]
  },
  {
   "cell_type": "markdown",
   "id": "83a99b9d",
   "metadata": {},
   "source": [
    "3"
   ]
  },
  {
   "cell_type": "markdown",
   "id": "56fee74b",
   "metadata": {},
   "source": [
    "#### 問２　AIという用語が初めて使用されたのはどこか？最もよく当てはまる選択肢を選べ\n",
    "１．ILSVRC  \n",
    "２．イギリス国立物理学研究所  \n",
    "３．ダートマス会議  \n",
    "４．オタワ会議   "
   ]
  },
  {
   "cell_type": "markdown",
   "id": "ec2ffe66",
   "metadata": {},
   "source": [
    "3"
   ]
  },
  {
   "cell_type": "markdown",
   "id": "1c44af3f",
   "metadata": {},
   "source": [
    "#### 問３　以下の文章を読み、（ア）～（ウ）に当てはまる組合せの選択肢を選べ\n",
    "\n",
    "第一次AIブームは（ア）の時代と呼ばれた。  \n",
    "第ニ次AIブームは（イ）の時代と呼ばれた。  \n",
    "第三次AIブームは（ウ）の時代と呼ばれた。　\n",
    "\n",
    "１．（ア）知識（イ）探索と推論（ウ）機械学習  \n",
    "２．（ア）機械学習（イ）知識（ウ）探索と推論  \n",
    "３．（ア）探索と推論（イ）知識（ウ）機械学習  \n",
    "４．（ア）機械学習（イ）探索と推論（ウ）知識  "
   ]
  },
  {
   "cell_type": "markdown",
   "id": "6898c42a",
   "metadata": {},
   "source": [
    "1"
   ]
  },
  {
   "cell_type": "markdown",
   "id": "3d6a7ade",
   "metadata": {},
   "source": [
    "#### 問４　強いAIに当てはまるものとして最も適切な選択肢を選べ\n",
    "\n",
    "１．家事全般をこなすAI  \n",
    "２．囲碁を打つAI  \n",
    "３．画像の分類をするAI  \n",
    "４．言語を翻訳するAI"
   ]
  },
  {
   "cell_type": "markdown",
   "id": "9dafc99c",
   "metadata": {},
   "source": [
    "2"
   ]
  },
  {
   "cell_type": "markdown",
   "id": "765ebfe5",
   "metadata": {},
   "source": [
    "#### 問５　シンギュラリティの説明として最も適切な選択肢を選べ。\n",
    "\n",
    "１．人工知能が、あるタスクを実行するのに関係のある事柄に絞って考えられない問題  \n",
    "２．人工知能が自分の能力を超える人工知能をうみだせるようになる時点  \n",
    "３．人工知能が、迷路などのおもちゃのような問題しか解けないことを表した単語  \n",
    "４．汎用的な用途に使用できるAI  "
   ]
  },
  {
   "cell_type": "markdown",
   "id": "13ac6d84",
   "metadata": {},
   "source": [
    "2"
   ]
  },
  {
   "cell_type": "markdown",
   "id": "582e2b21",
   "metadata": {},
   "source": [
    "#### 問６　シンボルグラウンディング問題について、（　　　）に当てはまる単語を選べ。\n",
    "\n",
    "コンピュータはシンボル（記号）が意味するものを理解できない。そのため、   \n",
    "例えば、人間の顔を学習しても顔文字のような記号を人間の顔として認識する  \n",
    "ことができない。シンボル（記号）が意味するものを理解するためには、    \n",
    "（　　　　）が必要とされている。\n",
    "\n",
    "１．論理性  \n",
    "２．創造性  \n",
    "３．身体性  \n",
    "４．接続性"
   ]
  },
  {
   "cell_type": "markdown",
   "id": "bf7d240e",
   "metadata": {},
   "source": [
    "3"
   ]
  },
  {
   "cell_type": "markdown",
   "id": "79f8ddc7",
   "metadata": {},
   "source": [
    "#### 問７　空欄に当てはまる語句の組合せとして、最も適しているものを選べ。\n",
    "\n",
    "教師あり学習の問題は出力値の種類によって、大きく２種類に分けられる。  \n",
    "（Ａ）問題は出力が離散値であり、カテゴリーを予測したいときに利用される。  \n",
    "一方、（Ｂ）問題は出力が連続値であり、その連続値そのものを予測したいときに利用される。  \n",
    "\n",
    "１．（Ａ）限定　（Ｂ）一般  \n",
    "２．（Ａ）部分　（Ｂ）完全  \n",
    "３．（Ａ）分類　（Ｂ）回帰  \n",
    "４．（Ａ）線形　（Ｂ）非線形  \n"
   ]
  },
  {
   "cell_type": "markdown",
   "id": "69b0fcd7",
   "metadata": {},
   "source": [
    "3"
   ]
  },
  {
   "cell_type": "markdown",
   "id": "005d51fe",
   "metadata": {},
   "source": [
    "#### 問８　機械学習において、訓練データに対してのみ予測能力が優れており、テストデータに対しての予測能力が劣ってしまう現象を何と呼ぶか？\n",
    "\n",
    "１．スケールアウト  \n",
    "２．学習不足  \n",
    "３．過学習  \n",
    "４．交差検証  "
   ]
  },
  {
   "cell_type": "markdown",
   "id": "6019a30b",
   "metadata": {},
   "source": [
    "3"
   ]
  },
  {
   "cell_type": "markdown",
   "id": "9a9c5a9b",
   "metadata": {},
   "source": [
    "#### 問９　機械学習の目的は、手元にあるデータを学習し特徴を掴むことによって、未知のデータに対して正しく予測・識別できるようになることである。この未知のデータに対する予測能力のことを何というか？\n",
    "\n",
    "１．汎化性能  \n",
    "２．交差検証  \n",
    "３．汎用性  \n",
    "４．特化性能  "
   ]
  },
  {
   "cell_type": "markdown",
   "id": "10920e7c",
   "metadata": {},
   "source": [
    "1"
   ]
  },
  {
   "attachments": {
    "image.png": {
     "image/png": "[encoded data removed]"
    }
   },
   "cell_type": "markdown",
   "id": "c670cc7b",
   "metadata": {},
   "source": [
    "#### 問１０　２値分類で使われる混同行列の各セルの件数を用いて、正解率を算出する式を選べ\n",
    "\n",
    "![image.png](attachment:image.png)\n",
    "\n",
    "１．TP / (TP + FP)  \n",
    "２．TN / (TN + FP)  \n",
    "３．TP / (TP + FN)  \n",
    "４．（TP + TN）/（TP + FP + FN + TN）  "
   ]
  },
  {
   "cell_type": "markdown",
   "id": "ef14d8f2",
   "metadata": {},
   "source": [
    "4"
   ]
  },
  {
   "cell_type": "markdown",
   "id": "ac2801c5",
   "metadata": {},
   "source": [
    "#### 問１１　ディープニューラルネットワーク（DNN）について述べた以下の文のうち、最も適切なものを1つ選べ。\n",
    "\n",
    "１．ディープラーニングは大量のデータがある場合には、必ず他のあらゆる機械学習の手法よりも優れている。  \n",
    "２．DNNはコンペティションにおいて高い成果を上げているが、これはコンペティションだからこそできたことであり、DNNを実社会で応用することは困難である。  \n",
    "３．DNNの示す性能は、層を深くするほど高くなるので、問題となるのは増加する計算量に耐えうるマシンパワーだけである。  \n",
    "４．線形分離不可能なデータは、DNNによって初めて扱えるようになった。  \n",
    "５．上記のいずれも該当しない。  "
   ]
  },
  {
   "cell_type": "markdown",
   "id": "98a94836",
   "metadata": {},
   "source": [
    "3"
   ]
  },
  {
   "cell_type": "markdown",
   "id": "060bda3d",
   "metadata": {},
   "source": [
    "#### 問１２　ニューラルネットワークの隠れ層を増やすことにより発生する問題に関して、適切なものを選べ。\n",
    "\n",
    "１．隠れ層が積み重なるため、誤差逆伝搬法が適用しにくくなる。  \n",
    "２．増やした隠れ層の重みが互いに影響するため、自由に次元数を設定することができ\n",
    "　　なくなる。  \n",
    "３．隠れ層の重みが調整しにくくなるため、事前学習が必須となる。  \n",
    "４．隠れ層が複数となるため、出力層はシグモイド関数ではなくソフトマックス関数\n",
    "　　しか使えなくなる。  "
   ]
  },
  {
   "cell_type": "markdown",
   "id": "20f7c248",
   "metadata": {},
   "source": [
    "4"
   ]
  },
  {
   "cell_type": "markdown",
   "id": "6201c0f8",
   "metadata": {},
   "source": [
    "#### 問１３　物体検出は、画像に写っている物体の分類と位置の特定を行うタスクである。代表的な１段階モデルのアルゴリズムとして、もっとも適切なものを選べ。\n",
    "\n",
    "１．YOLO  \n",
    "２．Faster R-CNN  \n",
    "３．SegNet  \n",
    "４．Region Proposal Network  "
   ]
  },
  {
   "cell_type": "markdown",
   "id": "19f66372",
   "metadata": {},
   "source": [
    "1"
   ]
  },
  {
   "attachments": {
    "image.png": {
     "image/png": "[encoded data removed]"
    }
   },
   "cell_type": "markdown",
   "id": "63a53ae7",
   "metadata": {},
   "source": [
    "#### 問１４　出力が次のグラフとなる関数を選べ\n",
    "\n",
    "![image.png](attachment:image.png)\n",
    "\n",
    "１．Tanh関数  \n",
    "２．ステップ関数  \n",
    "３．ReLU関数  \n",
    "４．Sigmoid関数  "
   ]
  },
  {
   "cell_type": "markdown",
   "id": "56aa315b",
   "metadata": {},
   "source": [
    "3"
   ]
  },
  {
   "cell_type": "markdown",
   "id": "ef051bd3",
   "metadata": {},
   "source": [
    "#### 問１５　あるタスクのために訓練された学習済みモデルを別のタスクに適用する手法をなんというか？\n",
    "\n",
    "１．転移学習  \n",
    "２．回帰結合ニューラルネットワーク  \n",
    "３．教師なし学習  \n",
    "４．オートエンコーダ  "
   ]
  },
  {
   "cell_type": "markdown",
   "id": "a8b86d87",
   "metadata": {},
   "source": [
    "1"
   ]
  },
  {
   "cell_type": "markdown",
   "id": "39780cb8",
   "metadata": {},
   "source": [
    "#### 問１６　強化学習に関する以下の文章のうち、最も適切なものを選べ\n",
    "\n",
    "１．強化学習は出力が与えられないことから、教師なし学習に分類することができる。  \n",
    "２．強化学習は状態をフィードバックしてやることから、それを出力とみなした教師あり  \n",
    "　　学習に分類することができる。  \n",
    "３．強化学習は環境から得られる状態をもとに、どのような行動をとるべきかを学習する  \n",
    "　　手法である。  \n",
    "４．強化学習は、機械が自律的に行動することができるようになる手法であり、  \n",
    "　　教師あり学習を応用したものである。  "
   ]
  },
  {
   "cell_type": "markdown",
   "id": "71a3cff4",
   "metadata": {},
   "source": [
    "3"
   ]
  },
  {
   "cell_type": "markdown",
   "id": "287f1619",
   "metadata": {},
   "source": [
    "#### 問１７　ＰｏＣフェーズの説明に関する以下の文章のうち、適切なものを選べ。\n",
    "\n",
    "１．ＰｏＣでの実施内容の一つとしてＡＩモデルの開発を行い精度検証を行う。  \n",
    "２．ＰｏＣとはＡＩモデルの精度の評価をすることが目的である。  \n",
    "３．ＰｏＣをする上での実験環境としては、オンプレミスよりクラウドの方が  \n",
    "　　望ましい。  \n",
    "４．ＰｏＣの段階で運用のための基盤を構築すべきである。"
   ]
  },
  {
   "cell_type": "markdown",
   "id": "1e75cb28",
   "metadata": {},
   "source": [
    "1"
   ]
  },
  {
   "cell_type": "markdown",
   "id": "09a2a144",
   "metadata": {},
   "source": [
    "#### 問１８　著作権に関して適切でないものを選べ\n",
    "\n",
    "１．インターネット上で公開されていた自然言語データを大量に収集・複製した学習用  \n",
    "　　データセットを、企業や研究機関が参画するコンソーシアム内で共同利用すること  \n",
    "　　は、適法である。  \n",
    "２．インターネット上で公開されている画像データを大量に収集・複製し、画像認識用  \n",
    "　　モデル生成のための学習データセットを作成することは、適法である。  \n",
    "３．インターネット上で公開されている画像データを大量に収集・複製し、画像認識用  \n",
    "　　モデル生成のための学習データセットを作成した上で、販売（営利提供）  \n",
    "　　することは、違法である。  "
   ]
  },
  {
   "cell_type": "markdown",
   "id": "34d2a045",
   "metadata": {},
   "source": [
    "3"
   ]
  },
  {
   "cell_type": "markdown",
   "id": "290eff49",
   "metadata": {},
   "source": [
    "#### 問１９　CNNにおいて画像データまたは特徴マップの一部に注目して、その範囲内の各位置に重みをかけて総和の計算を行う層の名称として、最も適切なものを選べ。\n",
    "\n",
    "１．プーリング層  \n",
    "２．出力層  \n",
    "３．畳み込み層  \n",
    "４．全結合層  "
   ]
  },
  {
   "cell_type": "markdown",
   "id": "0d020465",
   "metadata": {},
   "source": [
    "3"
   ]
  },
  {
   "cell_type": "markdown",
   "id": "ec1c906e",
   "metadata": {},
   "source": [
    "#### 問２０　CNNには、平均値や最大値などを用いて特徴マップから１つの値を取り出す処理がある。このような処理を行う層の名称を選べ。\n",
    "\n",
    "１．プーリング層  \n",
    "２．出力層  \n",
    "３．畳み込み層  \n",
    "４．全結合層  "
   ]
  },
  {
   "cell_type": "markdown",
   "id": "429ed84f",
   "metadata": {},
   "source": [
    "1"
   ]
  }
 ],
 "metadata": {
  "kernelspec": {
   "display_name": "Python 3 (ipykernel)",
   "language": "python",
   "name": "python3"
  },
  "language_info": {
   "codemirror_mode": {
    "name": "ipython",
    "version": 3
   },
   "file_extension": ".py",
   "mimetype": "text/x-python",
   "name": "python",
   "nbconvert_exporter": "python",
   "pygments_lexer": "ipython3",
   "version": "3.9.13"
  },
  "toc": {
   "base_numbering": 1,
   "nav_menu": {},
   "number_sections": true,
   "sideBar": true,
   "skip_h1_title": false,
   "title_cell": "Table of Contents",
   "title_sidebar": "Contents",
   "toc_cell": false,
   "toc_position": {},
   "toc_section_display": true,
   "toc_window_display": false
  }
 },
 "nbformat": 4,
 "nbformat_minor": 5
}
