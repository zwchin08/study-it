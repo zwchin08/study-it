{
  "cells": [
    {
      "cell_type": "markdown",
      "id": "F6PlNJbq1ngQ",
      "metadata": {
        "id": "F6PlNJbq1ngQ"
      },
      "source": [
        "# DL演習課題"
      ]
    },
    {
      "cell_type": "markdown",
      "id": "30fcced9",
      "metadata": {
        "id": "30fcced9"
      },
      "source": [
        "### <font color='green'>・この課題はGoogle colab上で実行してください</font>"
      ]
    },
    {
      "cell_type": "markdown",
      "id": "Dmz0oX4Z13ZB",
      "metadata": {
        "id": "Dmz0oX4Z13ZB"
      },
      "source": [
        "### ・<font color='green'>以下のセルに学籍番号と氏名を記入してください</font>"
      ]
    },
    {
      "cell_type": "markdown",
      "id": "nSMsS9sK13dG",
      "metadata": {
        "id": "nSMsS9sK13dG"
      },
      "source": [
        "学籍番号：　　　221115　　　　　　　　氏名：陳　正偉"
      ]
    },
    {
      "cell_type": "markdown",
      "id": "AVwLz5M813s6",
      "metadata": {
        "id": "AVwLz5M813s6"
      },
      "source": [
        "### <font color='green'>・終了後に、ダウンロードして、ファイル名称を「学籍番号＋氏名.ipynb」に変更し、提出してください。</font>"
      ]
    },
    {
      "cell_type": "markdown",
      "id": "AArYRFe94POu",
      "metadata": {
        "id": "AArYRFe94POu"
      },
      "source": [
        "### Kerasを使ってMNISTの分類モデルを構築してみよう！"
      ]
    },
    {
      "cell_type": "markdown",
      "id": "6201c0f8",
      "metadata": {
        "id": "6201c0f8"
      },
      "source": [
        "#### Step１　Kerasと必要なライブラリのインポートしよう"
      ]
    },
    {
      "cell_type": "code",
      "execution_count": 35,
      "id": "b795917e",
      "metadata": {
        "id": "b795917e"
      },
      "outputs": [],
      "source": [
        "import keras\n",
        "from keras.datasets import mnist\n",
        "from keras.models import Sequential\n",
        "from keras.layers import Dense, Flatten, Activation\n",
        "from keras.layers import Conv2D, MaxPooling2D\n",
        "from keras.optimizers import Adam\n",
        "from keras.utils import np_utils\n",
        "\n",
        "import matplotlib.pyplot as plt\n",
        "%matplotlib inline"
      ]
    },
    {
      "cell_type": "markdown",
      "id": "63a53ae7",
      "metadata": {
        "id": "63a53ae7"
      },
      "source": [
        "#### Step２　MNISTをダウンロードしてみよう"
      ]
    },
    {
      "cell_type": "code",
      "execution_count": 36,
      "id": "9ba13de8",
      "metadata": {
        "id": "9ba13de8"
      },
      "outputs": [],
      "source": [
        "(X_train, y_train), (X_test, y_test) = mnist.load_data()"
      ]
    },
    {
      "cell_type": "markdown",
      "id": "ANrnXBU06tJA",
      "metadata": {
        "id": "ANrnXBU06tJA"
      },
      "source": [
        "#### Step３　訓練データのサイズを確認する"
      ]
    },
    {
      "cell_type": "code",
      "execution_count": 37,
      "id": "hV4OAgBT7Ep4",
      "metadata": {
        "id": "hV4OAgBT7Ep4",
        "colab": {
          "base_uri": "https://localhost:8080/"
        },
        "outputId": "1de64fad-b551-46a2-8730-689393434b50"
      },
      "outputs": [
        {
          "output_type": "execute_result",
          "data": {
            "text/plain": [
              "(60000, 28, 28)"
            ]
          },
          "metadata": {},
          "execution_count": 37
        }
      ],
      "source": [
        "X_train.shape"
      ]
    },
    {
      "cell_type": "markdown",
      "id": "y61yMiX08avn",
      "metadata": {
        "id": "y61yMiX08avn"
      },
      "source": [
        "上記のことから、訓練データが60,000枚あることが分かります。また、1枚当たり28×28のサイズになっています。"
      ]
    },
    {
      "cell_type": "markdown",
      "id": "TW0ecA3z6tSx",
      "metadata": {
        "id": "TW0ecA3z6tSx"
      },
      "source": [
        "#### Step４　同様にテストデータのサイズを確認する"
      ]
    },
    {
      "cell_type": "code",
      "execution_count": 38,
      "id": "jdCspozD7Wze",
      "metadata": {
        "id": "jdCspozD7Wze",
        "colab": {
          "base_uri": "https://localhost:8080/"
        },
        "outputId": "821955ad-dbdc-4abd-f5da-3fdde01ecd96"
      },
      "outputs": [
        {
          "output_type": "execute_result",
          "data": {
            "text/plain": [
              "(10000, 28, 28)"
            ]
          },
          "metadata": {},
          "execution_count": 38
        }
      ],
      "source": [
        "X_test.shape"
      ]
    },
    {
      "cell_type": "markdown",
      "id": "-vgqRL1F8rgu",
      "metadata": {
        "id": "-vgqRL1F8rgu"
      },
      "source": [
        "上記のことから、テストデータが10,000枚あることが分かります。また、1枚当たり28×28のサイズになっています。"
      ]
    },
    {
      "cell_type": "markdown",
      "id": "HMs-SQPv7tHq",
      "metadata": {
        "id": "HMs-SQPv7tHq"
      },
      "source": [
        "#### Step５　X_train、X_testをfloat32に変換する。\n",
        "- データ型の変換（キャスト）はastypeで行います。"
      ]
    },
    {
      "cell_type": "code",
      "execution_count": 39,
      "id": "zeLwdMNg7tTT",
      "metadata": {
        "id": "zeLwdMNg7tTT"
      },
      "outputs": [],
      "source": [
        "X_train = X_train.astype('float32')\n",
        "X_test = X_test.astype('float32')"
      ]
    },
    {
      "cell_type": "markdown",
      "id": "ltx_B18l-FsF",
      "metadata": {
        "id": "ltx_B18l-FsF"
      },
      "source": [
        "#### Step６　特徴量の正規化を行います\n",
        "- 正規化とは値を０から１の間に押し込むことをいいます。\n",
        "\n"
      ]
    },
    {
      "cell_type": "code",
      "execution_count": 40,
      "id": "CFkWjolT-F4q",
      "metadata": {
        "id": "CFkWjolT-F4q"
      },
      "outputs": [],
      "source": [
        "X_train /= 255\n",
        "X_test /= 255"
      ]
    },
    {
      "cell_type": "markdown",
      "id": "eCj2p4S1_8o3",
      "metadata": {
        "id": "eCj2p4S1_8o3"
      },
      "source": [
        "#### Step７　正解データをone-hotエンコーディングする\n",
        "- one-hotエンコーディングとは以下のような変換を行ないます\n",
        "- 0なら[1, 0, 0, 0, 0, 0, 0, 0, 0, 0]\n",
        "- 1なら[0, 1, 0, 0, 0, 0, 0, 0, 0, 0]\n",
        "- 2なら[0, 0, 1, 0, 0, 0, 0, 0, 0, 0]\n",
        "- np_utils.to_categoricalを使います"
      ]
    },
    {
      "cell_type": "code",
      "execution_count": 41,
      "id": "Z8ZQBI1I_802",
      "metadata": {
        "id": "Z8ZQBI1I_802"
      },
      "outputs": [],
      "source": [
        "Y_train = np_utils.to_categorical(y_train, 10)\n",
        "Y_test = np_utils.to_categorical(y_test, 10)"
      ]
    },
    {
      "cell_type": "markdown",
      "id": "inOzHitqBZc2",
      "metadata": {
        "id": "inOzHitqBZc2"
      },
      "source": [
        "#### Step８　これからネットワークを定義していきます。まず、model=Sequentialで始めます"
      ]
    },
    {
      "cell_type": "code",
      "execution_count": 42,
      "id": "N0GJn8-BBZpX",
      "metadata": {
        "id": "N0GJn8-BBZpX"
      },
      "outputs": [],
      "source": [
        "model = Sequential()"
      ]
    },
    {
      "cell_type": "markdown",
      "id": "ef051bd3",
      "metadata": {
        "id": "ef051bd3"
      },
      "source": [
        "#### Step９　上記のmodelに畳み込み層を追加するコードを書きます。\n",
        "- Conv2Dを使用する\n",
        "- フィルターの大きさは3×3\n",
        "- フィルターの枚数は16\n",
        "- input_shapeは(28, 28, 1)とせよ"
      ]
    },
    {
      "cell_type": "code",
      "execution_count": 43,
      "id": "4efe7aae",
      "metadata": {
        "id": "4efe7aae"
      },
      "outputs": [],
      "source": [
        "model.add(Conv2D(16, (3, 3), input_shape=(28, 28, 1)))"
      ]
    },
    {
      "cell_type": "markdown",
      "id": "39780cb8",
      "metadata": {
        "id": "39780cb8"
      },
      "source": [
        "#### Step１０　上記に活性化関数を追加するコードを書きます\n",
        "- Activationを使用します\n",
        "- 活性化関数はreluを使用する"
      ]
    },
    {
      "cell_type": "code",
      "execution_count": 44,
      "id": "5a9af3d2",
      "metadata": {
        "id": "5a9af3d2"
      },
      "outputs": [],
      "source": [
        "model.add(Activation('relu'))"
      ]
    },
    {
      "cell_type": "markdown",
      "id": "287f1619",
      "metadata": {
        "id": "287f1619"
      },
      "source": [
        "#### Step１１　上記にMaxPoolingを追加するコードを書きます\n",
        "- MaxPooling2Dを使用する\n",
        "- ダウンスケールは2×2"
      ]
    },
    {
      "cell_type": "code",
      "execution_count": 32,
      "id": "8c5c024e",
      "metadata": {
        "id": "8c5c024e"
      },
      "outputs": [],
      "source": [
        "model.add(MaxPooling2D((2, 2)))"
      ]
    },
    {
      "cell_type": "markdown",
      "id": "09a2a144",
      "metadata": {
        "id": "09a2a144"
      },
      "source": [
        "#### Step１２　上記にStep９からStep１１までのコードを追加して層を増やします。その際、以下の点に注意します。\n",
        "- フィルターの数を倍にする"
      ]
    },
    {
      "cell_type": "code",
      "execution_count": 45,
      "id": "80df791b",
      "metadata": {
        "id": "80df791b"
      },
      "outputs": [],
      "source": [
        "model.add(Conv2D(32, (3, 3)))\n",
        "model.add(Activation('relu'))\n",
        "model.add(MaxPooling2D((2, 2)))"
      ]
    },
    {
      "cell_type": "markdown",
      "id": "290eff49",
      "metadata": {
        "id": "290eff49"
      },
      "source": [
        "#### Step１３　最後の全結合層（dense）に接続する前にFlattenで1次元配列に変換する。"
      ]
    },
    {
      "cell_type": "code",
      "execution_count": 46,
      "id": "756ed48a",
      "metadata": {
        "id": "756ed48a"
      },
      "outputs": [],
      "source": [
        "model.add(Flatten())"
      ]
    },
    {
      "cell_type": "markdown",
      "id": "ec1c906e",
      "metadata": {
        "id": "ec1c906e"
      },
      "source": [
        "#### Step１４　クラスの確率を出力するための最終層を追加するコードを書きます\n",
        "- Denseを使う\n",
        "- ユニットの数は10を指定する\n",
        "- 活性化関数はsoftmaxを指定する"
      ]
    },
    {
      "cell_type": "code",
      "execution_count": 48,
      "id": "2457cf9e",
      "metadata": {
        "id": "2457cf9e"
      },
      "outputs": [],
      "source": [
        "model.add(Dense(10, activation='softmax'))"
      ]
    },
    {
      "cell_type": "markdown",
      "id": "kunUARRRN6Q6",
      "metadata": {
        "id": "kunUARRRN6Q6"
      },
      "source": [
        "#### Step１５　モデルをコンパイルします\n",
        "- 最適化アルゴリズムはAdam\n",
        "- ロスはcategorical_crossentropy\n",
        "- 評価指標はaccuracy"
      ]
    },
    {
      "cell_type": "code",
      "execution_count": 49,
      "id": "tuyVqPdrNO2h",
      "metadata": {
        "id": "tuyVqPdrNO2h"
      },
      "outputs": [],
      "source": [
        "model.compile(loss='categorical_crossentropy', optimizer=Adam(), metrics='accuracy')"
      ]
    },
    {
      "cell_type": "markdown",
      "id": "_l1I_IviPOUR",
      "metadata": {
        "id": "_l1I_IviPOUR"
      },
      "source": [
        "#### Step１６　モデルのサマリーを表示する"
      ]
    },
    {
      "cell_type": "code",
      "execution_count": 50,
      "id": "f96YNyJiPcKh",
      "metadata": {
        "id": "f96YNyJiPcKh",
        "colab": {
          "base_uri": "https://localhost:8080/"
        },
        "outputId": "eb7f94f8-9f17-4a26-d35a-2c2c4c8dd957"
      },
      "outputs": [
        {
          "output_type": "stream",
          "name": "stdout",
          "text": [
            "Model: \"sequential_2\"\n",
            "_________________________________________________________________\n",
            " Layer (type)                Output Shape              Param #   \n",
            "=================================================================\n",
            " conv2d_7 (Conv2D)           (None, 26, 26, 16)        160       \n",
            "                                                                 \n",
            " activation_6 (Activation)   (None, 26, 26, 16)        0         \n",
            "                                                                 \n",
            " conv2d_8 (Conv2D)           (None, 24, 24, 32)        4640      \n",
            "                                                                 \n",
            " activation_7 (Activation)   (None, 24, 24, 32)        0         \n",
            "                                                                 \n",
            " max_pooling2d_7 (MaxPooling  (None, 12, 12, 32)       0         \n",
            " 2D)                                                             \n",
            "                                                                 \n",
            " flatten (Flatten)           (None, 4608)              0         \n",
            "                                                                 \n",
            " dense (Dense)               (None, 10)                46090     \n",
            "                                                                 \n",
            " dense_1 (Dense)             (None, 10)                110       \n",
            "                                                                 \n",
            "=================================================================\n",
            "Total params: 51,000\n",
            "Trainable params: 51,000\n",
            "Non-trainable params: 0\n",
            "_________________________________________________________________\n"
          ]
        }
      ],
      "source": [
        "model.summary()"
      ]
    },
    {
      "cell_type": "markdown",
      "id": "Kou6htpvPOXi",
      "metadata": {
        "id": "Kou6htpvPOXi"
      },
      "source": [
        "#### Step１７　モデルを学習させる\n",
        "- バッチサイズは100\n",
        "- エポック数は10\n",
        "- validation_splitは0.2"
      ]
    },
    {
      "cell_type": "code",
      "execution_count": 51,
      "id": "G7eQ0s6XPMiK",
      "metadata": {
        "id": "G7eQ0s6XPMiK",
        "colab": {
          "base_uri": "https://localhost:8080/"
        },
        "outputId": "96dbccbb-0f27-4de3-e4ae-b4e006cab7d6"
      },
      "outputs": [
        {
          "output_type": "stream",
          "name": "stdout",
          "text": [
            "Epoch 1/10\n",
            "480/480 [==============================] - 57s 116ms/step - loss: 1.7001 - accuracy: 0.6317 - val_loss: 1.3719 - val_accuracy: 0.6925\n",
            "Epoch 2/10\n",
            "480/480 [==============================] - 57s 118ms/step - loss: 1.1607 - accuracy: 0.6900 - val_loss: 0.9813 - val_accuracy: 0.6977\n",
            "Epoch 3/10\n",
            "480/480 [==============================] - 56s 118ms/step - loss: 0.8734 - accuracy: 0.6983 - val_loss: 0.7766 - val_accuracy: 0.6982\n",
            "Epoch 4/10\n",
            "480/480 [==============================] - 56s 116ms/step - loss: 0.7189 - accuracy: 0.7003 - val_loss: 0.6719 - val_accuracy: 0.6948\n",
            "Epoch 5/10\n",
            "480/480 [==============================] - 56s 117ms/step - loss: 0.6282 - accuracy: 0.7034 - val_loss: 0.6101 - val_accuracy: 0.7038\n",
            "Epoch 6/10\n",
            "480/480 [==============================] - 54s 113ms/step - loss: 0.5752 - accuracy: 0.7051 - val_loss: 0.5558 - val_accuracy: 0.7072\n",
            "Epoch 7/10\n",
            "480/480 [==============================] - 57s 118ms/step - loss: 0.5376 - accuracy: 0.7070 - val_loss: 0.5302 - val_accuracy: 0.7007\n",
            "Epoch 8/10\n",
            "480/480 [==============================] - 57s 119ms/step - loss: 0.5119 - accuracy: 0.7070 - val_loss: 0.5143 - val_accuracy: 0.7009\n",
            "Epoch 9/10\n",
            "480/480 [==============================] - 54s 113ms/step - loss: 0.4956 - accuracy: 0.7078 - val_loss: 0.5037 - val_accuracy: 0.7013\n",
            "Epoch 10/10\n",
            "480/480 [==============================] - 56s 117ms/step - loss: 0.4821 - accuracy: 0.7099 - val_loss: 0.4947 - val_accuracy: 0.7005\n"
          ]
        },
        {
          "output_type": "execute_result",
          "data": {
            "text/plain": [
              "<keras.callbacks.History at 0x79b82e1c4fd0>"
            ]
          },
          "metadata": {},
          "execution_count": 51
        }
      ],
      "source": [
        "model.fit(X_train, Y_train, batch_size=100, epochs=10, validation_split=0.2)"
      ]
    },
    {
      "cell_type": "code",
      "execution_count": null,
      "id": "ykjrTr7UQmu5",
      "metadata": {
        "id": "ykjrTr7UQmu5"
      },
      "outputs": [],
      "source": []
    }
  ],
  "metadata": {
    "colab": {
      "provenance": []
    },
    "kernelspec": {
      "display_name": "Python 3 (ipykernel)",
      "language": "python",
      "name": "python3"
    },
    "language_info": {
      "codemirror_mode": {
        "name": "ipython",
        "version": 3
      },
      "file_extension": ".py",
      "mimetype": "text/x-python",
      "name": "python",
      "nbconvert_exporter": "python",
      "pygments_lexer": "ipython3",
      "version": "3.9.13"
    }
  },
  "nbformat": 4,
  "nbformat_minor": 5
}