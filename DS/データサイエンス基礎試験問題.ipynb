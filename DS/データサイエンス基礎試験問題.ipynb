{
 "cells": [
  {
   "cell_type": "markdown",
   "id": "e90e36a9",
   "metadata": {},
   "source": [
    "# データサイエンス基礎　試験問題"
   ]
  },
  {
   "cell_type": "markdown",
   "id": "f4d554fe",
   "metadata": {},
   "source": [
    "### <font color='green'>・以下のセルに学籍番号と氏名を記入してください。セルはMarkdown形式となっていますので、ダブルクリックして入力して下さい</font>"
   ]
  },
  {
   "cell_type": "markdown",
   "id": "25ba8889",
   "metadata": {},
   "source": [
    "学籍番号：　　221115　　　　　　　　　　　　　氏名：陳　正偉"
   ]
  },
  {
   "cell_type": "markdown",
   "id": "f01147c5",
   "metadata": {},
   "source": [
    "### <font color='green'>・終了後、ファイル名を「学籍番号＋氏名.ipynb」に変更して提出して下さい</font>"
   ]
  },
  {
   "cell_type": "markdown",
   "id": "2466f18b",
   "metadata": {},
   "source": [
    "### 以下の問に答えよ。テキストを見ても良い。ネット検索もOK。また、必要に応じてセルの追加もOK。\n",
    "各５点　２０問　１００点満点"
   ]
  },
  {
   "cell_type": "markdown",
   "id": "6cde9068",
   "metadata": {},
   "source": [
    "#### 問１　１＋２ ✖ ６ ÷ ２ ｰ １　を計算せよ"
   ]
  },
  {
   "cell_type": "code",
   "execution_count": 4,
   "id": "2218c553",
   "metadata": {},
   "outputs": [
    {
     "name": "stdout",
     "output_type": "stream",
     "text": [
      "計算結果は: 6.0\n"
     ]
    }
   ],
   "source": [
    "result = 1 + 2 * 6 / 2 - 1\n",
    "print(\"計算結果は:\", result)"
   ]
  },
  {
   "cell_type": "markdown",
   "id": "56fee74b",
   "metadata": {},
   "source": [
    "#### 問２　１から１０まで表示する for 文を書け"
   ]
  },
  {
   "cell_type": "code",
   "execution_count": 5,
   "id": "39dff829",
   "metadata": {},
   "outputs": [
    {
     "name": "stdout",
     "output_type": "stream",
     "text": [
      "1\n",
      "2\n",
      "3\n",
      "4\n",
      "5\n",
      "6\n",
      "7\n",
      "8\n",
      "9\n",
      "10\n"
     ]
    }
   ],
   "source": [
    "for i in range(1, 11):\n",
    "    print(i)\n"
   ]
  },
  {
   "cell_type": "markdown",
   "id": "1c44af3f",
   "metadata": {},
   "source": [
    "#### 問３　リスト[1,3,2,5,4,0]を昇順に並べ替えよ"
   ]
  },
  {
   "cell_type": "code",
   "execution_count": 7,
   "id": "31b1f35b",
   "metadata": {},
   "outputs": [
    {
     "name": "stdout",
     "output_type": "stream",
     "text": [
      "[0, 1, 2, 3, 4, 5]\n"
     ]
    }
   ],
   "source": [
    "list = [1, 3, 2, 5, 4, 0]\n",
    "list = sorted(list)\n",
    "print(list)\n"
   ]
  },
  {
   "cell_type": "markdown",
   "id": "3d6a7ade",
   "metadata": {},
   "source": [
    "#### 問４　リスト内包表記を使って、以下のリストを生成せよ\n",
    "~~~\n",
    "[1, 2, 4, 8, 16, 32, 64]\n",
    "~~~"
   ]
  },
  {
   "cell_type": "code",
   "execution_count": 8,
   "id": "0787c2ac",
   "metadata": {},
   "outputs": [
    {
     "name": "stdout",
     "output_type": "stream",
     "text": [
      "[1, 2, 4, 8, 16, 32, 64]\n"
     ]
    }
   ],
   "source": [
    "list2 = [2 ** i for i in range(7)]\n",
    "print(list2)"
   ]
  },
  {
   "cell_type": "markdown",
   "id": "765ebfe5",
   "metadata": {},
   "source": [
    "#### 問５　以下のメッソドを持つKeisanという名前のクラスを作り、インスタンスを作成して以下のメソッドを実行せよ  \n",
    "・メソッドの名前はgoukei、2つの引数（整数）を受け取り、合計して表示する機能を有する\n"
   ]
  },
  {
   "cell_type": "code",
   "execution_count": 21,
   "id": "47a05543",
   "metadata": {},
   "outputs": [
    {
     "name": "stdout",
     "output_type": "stream",
     "text": [
      "合計は: 12\n"
     ]
    }
   ],
   "source": [
    "class Keisan:\n",
    "    def goukei(self, x, y):\n",
    "        total = x + y\n",
    "        print(\"合計は:\", total)\n",
    "keisan_instance = Keisan()\n",
    "keisan_instance.goukei(5, 7)\n"
   ]
  },
  {
   "cell_type": "markdown",
   "id": "582e2b21",
   "metadata": {},
   "source": [
    "#### 問６　以下のnumpyの2次元配列を列方向に合計した1次元配列を求めよ  \n",
    "\n",
    "$\\displaystyle \\left(\\begin{array}{ccc} 3 & 4 & 5\\\\ 6 & 7 & 8 \\\\ \\end{array}\\right)$\n",
    "\n",
    "ヒント：\n",
    "①numpyの2次元配列は以下のように作る  \n",
    "　例えば\n",
    "$\\displaystyle \\left(\\begin{array}{ccc} 1 & 2\\\\ 3 & 4 \\\\ 5 & 6 \\end{array}\\right)$\n",
    "  なら  \n",
    "　import numpy as np  \n",
    "　np.arange(1, 7).reshape(3, 2)  \n",
    "②axisを使う"
   ]
  },
  {
   "cell_type": "code",
   "execution_count": 22,
   "id": "69d9ad64",
   "metadata": {},
   "outputs": [
    {
     "name": "stdout",
     "output_type": "stream",
     "text": [
      "[ 9 11 13]\n"
     ]
    }
   ],
   "source": [
    "import numpy as np\n",
    "\n",
    "array_2d = np.array([[3, 4, 5],\n",
    "                     [6, 7, 8]])\n",
    "column_sum = np.sum(array_2d, axis=0)\n",
    "\n",
    "print(column_sum)"
   ]
  },
  {
   "cell_type": "markdown",
   "id": "bc5cbb20",
   "metadata": {},
   "source": [
    "#### 以下のコードを実行せよ"
   ]
  },
  {
   "cell_type": "code",
   "execution_count": 12,
   "id": "e5aa4a7b",
   "metadata": {},
   "outputs": [],
   "source": [
    "import pandas as pd\n",
    "from sklearn.datasets import load_iris\n",
    "dataset = load_iris()\n",
    "X = pd.DataFrame(dataset.data, columns=['sepal length', 'sepal width','petal length','petal width'])\n",
    "y = pd.Series(dataset.target, name='name')\n",
    "class_map = {0:'setosa', 1:'versicolor', 2:'virginica'}\n",
    "y = y.map(class_map)\n",
    "iris = X.join(y)"
   ]
  },
  {
   "cell_type": "markdown",
   "id": "79f8ddc7",
   "metadata": {},
   "source": [
    "#### 問７　irisの行数と列数を求めよ"
   ]
  },
  {
   "cell_type": "code",
   "execution_count": 13,
   "id": "563cec04",
   "metadata": {},
   "outputs": [
    {
     "name": "stdout",
     "output_type": "stream",
     "text": [
      "行数: 150\n",
      "列数: 5\n"
     ]
    }
   ],
   "source": [
    "num_rows, num_columns = iris.shape\n",
    "\n",
    "print(\"行数:\", num_rows)\n",
    "print(\"列数:\", num_columns)"
   ]
  },
  {
   "cell_type": "markdown",
   "id": "005d51fe",
   "metadata": {},
   "source": [
    "#### 問８　irisの1行目1列目（データフレームの左上）を切り出せ"
   ]
  },
  {
   "cell_type": "code",
   "execution_count": 14,
   "id": "57b1449d",
   "metadata": {},
   "outputs": [
    {
     "name": "stdout",
     "output_type": "stream",
     "text": [
      "1行目1列目の要素: 5.1\n"
     ]
    }
   ],
   "source": [
    "first_element = iris.iloc[0, 0]\n",
    "print(\"1行目1列目の要素:\", first_element)"
   ]
  },
  {
   "cell_type": "markdown",
   "id": "c670cc7b",
   "metadata": {},
   "source": [
    "#### 問９　irisの正解データ（name）の種類毎の数をカウントせよ"
   ]
  },
  {
   "cell_type": "code",
   "execution_count": 15,
   "id": "26f4ad19",
   "metadata": {},
   "outputs": [
    {
     "name": "stdout",
     "output_type": "stream",
     "text": [
      "setosa        50\n",
      "versicolor    50\n",
      "virginica     50\n",
      "Name: name, dtype: int64\n"
     ]
    }
   ],
   "source": [
    "class_counts = iris['name'].value_counts()\n",
    "print(class_counts)"
   ]
  },
  {
   "cell_type": "markdown",
   "id": "ac2801c5",
   "metadata": {},
   "source": [
    "#### 問１０　irisの中から、正解データ（name）の値がvirginicaの行を全て抽出し、先頭5行を表示せよ"
   ]
  },
  {
   "cell_type": "code",
   "execution_count": 16,
   "id": "43c20969",
   "metadata": {},
   "outputs": [
    {
     "name": "stdout",
     "output_type": "stream",
     "text": [
      "     sepal length  sepal width  petal length  petal width       name\n",
      "100           6.3          3.3           6.0          2.5  virginica\n",
      "101           5.8          2.7           5.1          1.9  virginica\n",
      "102           7.1          3.0           5.9          2.1  virginica\n",
      "103           6.3          2.9           5.6          1.8  virginica\n",
      "104           6.5          3.0           5.8          2.2  virginica\n"
     ]
    }
   ],
   "source": [
    "virginica_rows = iris[iris['name'] == 'virginica'].head(5)\n",
    "print(virginica_rows)"
   ]
  },
  {
   "cell_type": "markdown",
   "id": "b37afde4",
   "metadata": {},
   "source": [
    "#### 問１１　機械学習の大別として相応しくないものはどれか？ 以下のセルに該当する番号を入力せよ\n",
    "\n",
    "1 強化学習  \n",
    "2 教師あり学習  \n",
    "3 教師なし学習  \n",
    "4 深層学習  \n",
    "5 該当項目なし  "
   ]
  },
  {
   "cell_type": "markdown",
   "id": "77955efe",
   "metadata": {},
   "source": [
    "4"
   ]
  },
  {
   "cell_type": "markdown",
   "id": "6a94b024",
   "metadata": {},
   "source": [
    "#### 問１２　教師あり学習のタスクで、2つ以上のラベルを識別するためのタスクはどれか？ 以下のセルに該当する番号を入力せよ\n",
    "\n",
    "1 分類  \n",
    "2 交叉検証  \n",
    "3 回帰  \n",
    "4 該当項目なし  "
   ]
  },
  {
   "cell_type": "markdown",
   "id": "5a0c09a1",
   "metadata": {},
   "source": [
    "1"
   ]
  },
  {
   "cell_type": "markdown",
   "id": "237df117",
   "metadata": {},
   "source": [
    "#### 問１３　線形回帰は教師あり学習か？\n",
    "\n",
    "1 True  \n",
    "2 False  "
   ]
  },
  {
   "cell_type": "markdown",
   "id": "0e28b57a",
   "metadata": {},
   "source": [
    "1"
   ]
  },
  {
   "cell_type": "markdown",
   "id": "7ee6df7b",
   "metadata": {},
   "source": [
    "#### 問１４　ロジスティック回帰による、正例・負例の境界線が以下の(A)(B)(C)のようになった。過学習はどれか？ 以下のセルに該当する記号を入力せよ    \n",
    "<img src=\"https://drive.google.com/uc?id=1aXU58S5Erqh3T1mJqAOPFs-T_KbZULbO\" alt=\"過学習\">"
   ]
  },
  {
   "cell_type": "markdown",
   "id": "29296cb1",
   "metadata": {},
   "source": [
    "A"
   ]
  },
  {
   "cell_type": "markdown",
   "id": "8cfa3e5a",
   "metadata": {},
   "source": [
    "#### 問１５　中古車の金額を予測したいとき、候補となるアルゴリズムで不適切なものはどれか？ 以下のセルに該当する番号を入力せよ  \n",
    "\n",
    "1 ランダムフォレスト  \n",
    "2 ロジスティック回帰  \n",
    "3 リッジ回帰  \n",
    "4 ラッソ回帰  \n",
    "5 該当項目なし  "
   ]
  },
  {
   "cell_type": "markdown",
   "id": "9617a930",
   "metadata": {},
   "source": [
    "2"
   ]
  },
  {
   "cell_type": "markdown",
   "id": "88c9b66e",
   "metadata": {},
   "source": [
    "#### 問１６　カテゴリ変数を数値変数化する処理の一つが、one-hotエンコーディングである\n",
    "\n",
    "1 True  \n",
    "2 False  "
   ]
  },
  {
   "cell_type": "markdown",
   "id": "79b9e44c",
   "metadata": {},
   "source": [
    "1"
   ]
  },
  {
   "cell_type": "markdown",
   "id": "64863985",
   "metadata": {},
   "source": [
    "#### 問１７　勾配ブースティングのハイパーパラメータである「決定木の数」を大きくすると計算時間はどのように変化するか？ 以下のセルに該当する番号を入力せよ  \n",
    "\n",
    "1 木の数を増やすと増える  \n",
    "2 木の数を増やすと減る  \n",
    "3 計算時間は変わらない  "
   ]
  },
  {
   "cell_type": "markdown",
   "id": "ed8003da",
   "metadata": {},
   "source": [
    "1"
   ]
  },
  {
   "cell_type": "markdown",
   "id": "2eec4e91",
   "metadata": {},
   "source": [
    "#### 問１８　アンサンブル学習のアルゴリズムではないのは、以下のうちどれか？ 以下のセルに該当する番号を入力せよ  \n",
    "\n",
    "1 Random Forest  \n",
    "2 Gradient Boosting  \n",
    "3 AdaBoosting  \n",
    "4 Decision Tree  \n",
    "5 該当項目なし  "
   ]
  },
  {
   "cell_type": "markdown",
   "id": "a5f325b1",
   "metadata": {},
   "source": [
    "4"
   ]
  },
  {
   "cell_type": "markdown",
   "id": "cb4f1dad",
   "metadata": {},
   "source": [
    "#### 問１９　ランダムフォレストの説明として、相応しくないものはどれか？ 以下のセルに該当する番号を入力せよ  \n",
    "\n",
    "1 多数の決定木で構成される  \n",
    "2 特徴量がサンプリングされる  \n",
    "3 ブースティングの一種である  \n",
    "4 学習データがリサンプリングされる  \n",
    "5 該当項目なし  "
   ]
  },
  {
   "cell_type": "markdown",
   "id": "becac9d6",
   "metadata": {},
   "source": [
    "3"
   ]
  },
  {
   "cell_type": "markdown",
   "id": "f270fa78",
   "metadata": {},
   "source": [
    "#### 問２０　機械学習のアルゴリズムは、正解ラベルに欠損を含んでいても問題なく動作する\n",
    "\n",
    "1 True  \n",
    "2 False  "
   ]
  },
  {
   "cell_type": "markdown",
   "id": "34191c2b",
   "metadata": {},
   "source": [
    "2"
   ]
  }
 ],
 "metadata": {
  "kernelspec": {
   "display_name": "Python 3 (ipykernel)",
   "language": "python",
   "name": "python3"
  },
  "language_info": {
   "codemirror_mode": {
    "name": "ipython",
    "version": 3
   },
   "file_extension": ".py",
   "mimetype": "text/x-python",
   "name": "python",
   "nbconvert_exporter": "python",
   "pygments_lexer": "ipython3",
   "version": "3.9.13"
  },
  "toc": {
   "base_numbering": 1,
   "nav_menu": {},
   "number_sections": true,
   "sideBar": true,
   "skip_h1_title": false,
   "title_cell": "Table of Contents",
   "title_sidebar": "Contents",
   "toc_cell": false,
   "toc_position": {},
   "toc_section_display": true,
   "toc_window_display": false
  }
 },
 "nbformat": 4,
 "nbformat_minor": 5
}
