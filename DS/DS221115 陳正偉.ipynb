{
 "cells": [
  {
   "cell_type": "markdown",
   "id": "e90e36a9",
   "metadata": {},
   "source": [
    "# データサイエンス基礎 課題"
   ]
  },
  {
   "cell_type": "markdown",
   "id": "f4d554fe",
   "metadata": {},
   "source": [
    "### <font color='green'>・以下のセルに学籍番号と氏名を記入してください。セルはMarkdown形式となっていますので、ダブルクリックして入力して下さい。半角スペース２個で改行できます。</font>"
   ]
  },
  {
   "cell_type": "markdown",
   "id": "25ba8889",
   "metadata": {},
   "source": [
    "学籍番号：　　　221115　　　　　　　　　　　　氏名：　陳　正偉"
   ]
  },
  {
   "cell_type": "markdown",
   "id": "f01147c5",
   "metadata": {},
   "source": [
    "### <font color='green'>・終了後、ファイル名を「学籍番号＋氏名.ipynb」に変更し、提出方法については学校側の指示に従って下さい。</font>"
   ]
  },
  {
   "cell_type": "markdown",
   "id": "2466f18b",
   "metadata": {},
   "source": [
    "### 以下の問に答えよ。テキストを見ても良い。ネット検索もOK。また、必要に応じてセルの追加もOK。"
   ]
  },
  {
   "cell_type": "markdown",
   "id": "6cde9068",
   "metadata": {},
   "source": [
    "#### 問１　ある文字列が与えられた時、以下の加工を施すコードを書け\n",
    "- 数字（ '1' , '3' , '5' ）が出てきたら、文字（ 'A' , 'C' , 'E' ）に変える\n",
    "- 記号（'#', '@', '&'）がでてきたら、削除する\n",
    "- 上記以外の文字なら、そのまま入力から出力へ移す\n",
    "\n",
    "~~~\n",
    "やりたいこと\n",
    "\n",
    "'a1b5#c3' - > 'aAbEcC'\n",
    "~~~\n",
    "ヒント：文字列はイミュータブル（変更できない）なので、１文字ずつのリストにして  \n",
    "　　　　処理を行った後、文字列にもどしてやる  \n",
    "例　'abc' -> ['a', 'b', 'c']"
   ]
  },
  {
   "cell_type": "code",
   "execution_count": 54,
   "id": "2218c553",
   "metadata": {},
   "outputs": [
    {
     "name": "stdout",
     "output_type": "stream",
     "text": [
      "aAbEcC\n"
     ]
    }
   ],
   "source": [
    "def process_string(input_string):\n",
    "    \n",
    "    processed_string = \"\"\n",
    "    \n",
    "    for char in input_string:\n",
    "        if char in '135':\n",
    "            # 数字が '1', '3', '5' の場合、対応する文字に変換\n",
    "            if char == '1':\n",
    "                processed_string += 'A'\n",
    "            elif char == '3':\n",
    "                processed_string += 'C'\n",
    "            elif char == '5':\n",
    "                processed_string += 'E'\n",
    "        elif char not in '#@&':\n",
    "            # 記号でない場合、そのまま追加\n",
    "            processed_string += char\n",
    "    \n",
    "    return processed_string\n",
    "\n",
    "# テスト\n",
    "input_str = 'a1b5#c3'\n",
    "output_str = process_string(input_str)\n",
    "print(output_str)  # 出力: 'aAbEcC'"
   ]
  },
  {
   "cell_type": "markdown",
   "id": "56fee74b",
   "metadata": {},
   "source": [
    "#### 問２　あるショップに以下のような売上データがある。この時、どんな商品がいくつ売れたのか調べよ\n",
    "~~~\n",
    "uriage = ['シャープペン', '消しゴム', '蛍光ペン', 'シャープペン', '蛍光ペン', 'シャープペン']\n",
    "~~~"
   ]
  },
  {
   "cell_type": "code",
   "execution_count": 55,
   "id": "39dff829",
   "metadata": {},
   "outputs": [
    {
     "name": "stdout",
     "output_type": "stream",
     "text": [
      "シャープペン: 3個\n",
      "消しゴム: 1個\n",
      "蛍光ペン: 2個\n"
     ]
    }
   ],
   "source": [
    "uriage = ['シャープペン', '消しゴム', '蛍光ペン', 'シャープペン', '蛍光ペン', 'シャープペン']\n",
    "sales_count = {}\n",
    "\n",
    "for product in uriage:\n",
    "    if product in sales_count:\n",
    "        # 既に辞書に商品が存在する場合、売上数をインクリメント\n",
    "        sales_count[product] += 1\n",
    "    else:\n",
    "        # 商品が辞書に存在しない場合、新しい商品としてカウントを初期化\n",
    "        sales_count[product] = 1\n",
    "# 各商品の売上数を表示\n",
    "for product, count in sales_count.items():\n",
    "    print(f'{product}: {count}個')\n"
   ]
  },
  {
   "cell_type": "markdown",
   "id": "1c44af3f",
   "metadata": {},
   "source": [
    "#### 問３　リスト[1,3,2,5,4,0]を降順に並べ替えよ"
   ]
  },
  {
   "cell_type": "code",
   "execution_count": 56,
   "id": "31b1f35b",
   "metadata": {},
   "outputs": [
    {
     "name": "stdout",
     "output_type": "stream",
     "text": [
      "[5, 4, 3, 2, 1, 0]\n"
     ]
    }
   ],
   "source": [
    "list = [1, 3, 2, 5, 4, 0]\n",
    "list.sort(reverse=True)\n",
    "print(list)"
   ]
  },
  {
   "cell_type": "markdown",
   "id": "3d6a7ade",
   "metadata": {},
   "source": [
    "#### 問４　リスト内包表記を使って、以下のリストを生成せよ\n",
    "~~~\n",
    "['1', '2', '3', '4', '5', '6', '7', '8', '9', '10']\n",
    "~~~"
   ]
  },
  {
   "cell_type": "code",
   "execution_count": 57,
   "id": "0787c2ac",
   "metadata": {},
   "outputs": [
    {
     "name": "stdout",
     "output_type": "stream",
     "text": [
      "['1', '2', '3', '4', '5', '6', '7', '8', '9', '10']\n"
     ]
    }
   ],
   "source": [
    "generated_list = [str(i) for i in range(1, 11)]\n",
    "print(generated_list)"
   ]
  },
  {
   "cell_type": "markdown",
   "id": "765ebfe5",
   "metadata": {},
   "source": [
    "#### 問５　以下の2つのメソッドを持つCalcという名前のクラスを作り、インスタンスを作成して各メソッドを実行せよ\n",
    "- 1つ目のメソッドは、名前はplus、2つの引数を受け取り、合計して表示する機能を有する。\n",
    "- 2つ目のメソッドは、名前はtotal、リストの引数を受け取り、要素を合計して表示する機能を有する。"
   ]
  },
  {
   "cell_type": "code",
   "execution_count": 58,
   "id": "47a05543",
   "metadata": {},
   "outputs": [
    {
     "name": "stdout",
     "output_type": "stream",
     "text": [
      "合計: 12\n",
      "合計: 15\n"
     ]
    }
   ],
   "source": [
    "class Calc:\n",
    "    def plus(self, a, b):\n",
    "        result = a + b\n",
    "        print(f'合計: {result}')\n",
    "\n",
    "    def total(self, numbers):\n",
    "        result = sum(numbers)\n",
    "        print(f'合計: {result}')\n",
    "calculator = Calc()\n",
    "\n",
    "# 2つの数を合計\n",
    "calculator.plus(5, 7)\n",
    "\n",
    "# リストの要素を合計\n",
    "number_list = [1, 2, 3, 4, 5]\n",
    "calculator.total(number_list)"
   ]
  },
  {
   "cell_type": "markdown",
   "id": "582e2b21",
   "metadata": {},
   "source": [
    "#### 問６　以下のnumpy2次元配列を行方向に合計した1次元配列を求めよ  \n",
    "\n",
    "$\\displaystyle \\left(\\begin{array}{ccc} 3 & 4 & 5\\\\ 6 & 7 & 8 \\\\ \\end{array}\\right)$"
   ]
  },
  {
   "cell_type": "code",
   "execution_count": 59,
   "id": "69d9ad64",
   "metadata": {},
   "outputs": [
    {
     "name": "stdout",
     "output_type": "stream",
     "text": [
      "[12 21]\n"
     ]
    }
   ],
   "source": [
    "import numpy as np\n",
    "\n",
    "array_2d = np.array([[3, 4, 5],\n",
    "                     [6, 7, 8]])\n",
    "\n",
    "sum_result = np.sum(array_2d, axis=1)\n",
    "\n",
    "print(sum_result)"
   ]
  },
  {
   "cell_type": "markdown",
   "id": "bc5cbb20",
   "metadata": {},
   "source": [
    "#### 以下のコードを実行せよ"
   ]
  },
  {
   "cell_type": "code",
   "execution_count": 60,
   "id": "e5aa4a7b",
   "metadata": {},
   "outputs": [],
   "source": [
    "import pandas as pd\n",
    "from sklearn.datasets import load_iris\n",
    "dataset = load_iris()\n",
    "X = pd.DataFrame(dataset.data, columns=['sepal length', 'sepal width','petal length','petal width'])\n",
    "y = pd.Series(dataset.target, name='name')\n",
    "class_map = {0:'setosa', 1:'versicolor', 2:'virginica'}\n",
    "y = y.map(class_map)\n",
    "iris = X.join(y)"
   ]
  },
  {
   "cell_type": "markdown",
   "id": "79f8ddc7",
   "metadata": {},
   "source": [
    "#### 問７　irisの行数と列数を求めよ"
   ]
  },
  {
   "cell_type": "code",
   "execution_count": 61,
   "id": "563cec04",
   "metadata": {},
   "outputs": [
    {
     "name": "stdout",
     "output_type": "stream",
     "text": [
      "行数: 150\n",
      "列数: 5\n"
     ]
    }
   ],
   "source": [
    "num_rows = iris.shape[0]  # 行数を取得\n",
    "num_columns = iris.shape[1]  # 列数を取得\n",
    "\n",
    "print(\"行数:\", num_rows)\n",
    "print(\"列数:\", num_columns)"
   ]
  },
  {
   "cell_type": "markdown",
   "id": "005d51fe",
   "metadata": {},
   "source": [
    "#### 問８　irisの最終行最終列（データフレームの右下）を切り出せ"
   ]
  },
  {
   "cell_type": "code",
   "execution_count": 62,
   "id": "57b1449d",
   "metadata": {},
   "outputs": [
    {
     "name": "stdout",
     "output_type": "stream",
     "text": [
      "最終行最終列の値: virginica\n"
     ]
    }
   ],
   "source": [
    "last_row_last_column = iris.iloc[-1, -1]# irisの最終行と最終列を切り出す\n",
    "\n",
    "print(\"最終行最終列の値:\", last_row_last_column)"
   ]
  },
  {
   "cell_type": "markdown",
   "id": "c670cc7b",
   "metadata": {},
   "source": [
    "#### 問９　irisの正解データ（name）の種類毎の数をカウントせよ"
   ]
  },
  {
   "cell_type": "code",
   "execution_count": 63,
   "id": "26f4ad19",
   "metadata": {},
   "outputs": [
    {
     "name": "stdout",
     "output_type": "stream",
     "text": [
      "setosa        50\n",
      "versicolor    50\n",
      "virginica     50\n",
      "Name: name, dtype: int64\n"
     ]
    }
   ],
   "source": [
    "# 'name'列の各値の数をカウント\n",
    "name_counts = iris['name'].value_counts()\n",
    "print(name_counts)"
   ]
  },
  {
   "cell_type": "markdown",
   "id": "ac2801c5",
   "metadata": {},
   "source": [
    "#### 問１０　irisの中から、正解データ（name）の値がsetosaの行を全て抽出し、末尾10行を表示せよ"
   ]
  },
  {
   "cell_type": "code",
   "execution_count": 64,
   "id": "43c20969",
   "metadata": {},
   "outputs": [
    {
     "name": "stdout",
     "output_type": "stream",
     "text": [
      "    sepal length  sepal width  petal length  petal width    name\n",
      "40           5.0          3.5           1.3          0.3  setosa\n",
      "41           4.5          2.3           1.3          0.3  setosa\n",
      "42           4.4          3.2           1.3          0.2  setosa\n",
      "43           5.0          3.5           1.6          0.6  setosa\n",
      "44           5.1          3.8           1.9          0.4  setosa\n",
      "45           4.8          3.0           1.4          0.3  setosa\n",
      "46           5.1          3.8           1.6          0.2  setosa\n",
      "47           4.6          3.2           1.4          0.2  setosa\n",
      "48           5.3          3.7           1.5          0.2  setosa\n",
      "49           5.0          3.3           1.4          0.2  setosa\n"
     ]
    }
   ],
   "source": [
    "# 'name'列が'setosa'の行を抽出し、末尾10行を表示\n",
    "setosa_rows = iris[iris['name'] == 'setosa'].tail(10)\n",
    "print(setosa_rows)"
   ]
  },
  {
   "cell_type": "markdown",
   "id": "41308e59",
   "metadata": {},
   "source": [
    "#### 以下のコードを実行せよ"
   ]
  },
  {
   "cell_type": "code",
   "execution_count": 65,
   "id": "9ef54ef4",
   "metadata": {},
   "outputs": [],
   "source": [
    "import seaborn as sns"
   ]
  },
  {
   "cell_type": "markdown",
   "id": "8c995548",
   "metadata": {},
   "source": [
    "#### 問１１　以下の条件で箱ひげ図を書け\n",
    "- seabornのboxplotを使う\n",
    "- x軸はname\n",
    "- y軸はpetal width"
   ]
  },
  {
   "cell_type": "code",
   "execution_count": 66,
   "id": "2a659084",
   "metadata": {},
   "outputs": [
    {
     "data": {
      "image/png": "[encoded data removed]",
      "text/plain": [
       "<Figure size 640x480 with 1 Axes>"
      ]
     },
     "metadata": {},
     "output_type": "display_data"
    }
   ],
   "source": [
    "import seaborn as sns\n",
    "import matplotlib.pyplot as plt\n",
    "\n",
    "# 箱ひげ図を描画\n",
    "sns.boxplot(x='name', y='petal width', data=iris)\n",
    "\n",
    "# x軸ラベルを設定\n",
    "plt.xlabel('Iris Species')\n",
    "\n",
    "# y軸ラベルを設定\n",
    "plt.ylabel('Petal Width')\n",
    "\n",
    "# グラフのタイトルを設定\n",
    "plt.title('Petal Width by Iris Species')\n",
    "\n",
    "# グラフを表示\n",
    "plt.show()"
   ]
  },
  {
   "cell_type": "markdown",
   "id": "c7510076",
   "metadata": {},
   "source": [
    "#### 問１２　以下の条件で散布図を書け\n",
    "- seabornのsactterplotを使う\n",
    "- x軸はpetal length\n",
    "- y軸はpetal width\n",
    "- nameで色分けする"
   ]
  },
  {
   "cell_type": "code",
   "execution_count": 67,
   "id": "cb85c327",
   "metadata": {},
   "outputs": [
    {
     "data": {
      "image/png": "[encoded data removed]",
      "text/plain": [
       "<Figure size 640x480 with 1 Axes>"
      ]
     },
     "metadata": {},
     "output_type": "display_data"
    }
   ],
   "source": [
    "import seaborn as sns\n",
    "import matplotlib.pyplot as plt\n",
    "\n",
    "# 散布図を描画\n",
    "sns.scatterplot(x='petal length', y='petal width', hue='name', data=iris)\n",
    "\n",
    "# x軸ラベルを設定\n",
    "plt.xlabel('Petal Length')\n",
    "\n",
    "# y軸ラベルを設定\n",
    "plt.ylabel('Petal Width')\n",
    "\n",
    "# グラフのタイトルを設定\n",
    "plt.title('Scatter Plot of Petal Length vs. Petal Width by Iris Species')\n",
    "\n",
    "# グラフを表示\n",
    "plt.show()"
   ]
  },
  {
   "cell_type": "markdown",
   "id": "b37afde4",
   "metadata": {},
   "source": [
    "#### 問１３　機械学習は通常３つに大別されるが、その３つを以下のセルに書き出せ\n"
   ]
  },
  {
   "cell_type": "markdown",
   "id": "011d1361",
   "metadata": {},
   "source": [
    "１．  教師あり学習 :\n",
    "\n",
    "このタイプの機械学習では、訓練データセットが与えられ、各データポイントに対して正解のラベル（目標値）が含まれています。アルゴリズムはこれらの訓練データを使用して学習し、新しいデータポイントに対して予測を行います。教師あり学習は、分類（Classification）と回帰（Regression）の2つの主要なカテゴリに分かれます。\n",
    "\n",
    "２．  教師なし学習:\n",
    "\n",
    "教師なし学習では、訓練データには正解のラベルが含まれていません。アルゴリズムはデータの構造やパターンを自動的に抽出し、クラスタリング、次元削減、異常検出などのタスクを実行します。代表的なアルゴリズムにはk-meansクラスタリングや主成分分析（PCA）などがあります。\n",
    "\n",
    "３．  強化学習 :\n",
    "\n",
    "強化学習は、エージェントが環境と対話し、行動を選択するプロセスを学習するためのフレームワークです。エージェントは報酬信号を受け取り、最適な行動を見つけるために報酬を最大化するように学習します。強化学習は、ゲームプレイ、ロボティクス、自動運転などの応用に使用されます。"
   ]
  },
  {
   "cell_type": "markdown",
   "id": "7ee6df7b",
   "metadata": {},
   "source": [
    "#### 問１４　過学習とはどのような状態のことを言うのか？説明せよ    \n"
   ]
  },
  {
   "cell_type": "markdown",
   "id": "90128bd6",
   "metadata": {},
   "source": [
    "　　過学習（Overfitting）は、機械学習モデルが訓練データに対して過度に適合し、訓練データセット内のノイズや偶発的な変動までモデルが捉えようとする状態を指します。過学習が発生すると、モデルは訓練データに対しては非常に高い性能を示すかもしれませんが、未知のデータやテストデータに対しては悪い予測性能を持つことがあります。\n",
    "  \n",
    "  　過学習が発生する主な要因とその特徴について説明します:\n",
    "   \n",
    "　要因:\n",
    "モデルの複雑さ: 過度に複雑なモデル（例: 高次多項式モデルや深層ニューラルネットワーク）は、訓練データに対して非常に適合しやすくなります。\n",
    "データ量不足: 訓練データが十分でない場合、モデルは訓練データ内のノイズを学習しやすくなります。"
   ]
  },
  {
   "cell_type": "markdown",
   "id": "8cfa3e5a",
   "metadata": {},
   "source": [
    "#### 問１５　中古車の金額を予測したいとき、候補となるアルゴリズムを５つあげよ  "
   ]
  },
  {
   "cell_type": "markdown",
   "id": "ee72f31a",
   "metadata": {},
   "source": [
    "１．線形回帰 (Linear Regression):\n",
    "\n",
    "中古車の価格は通常数値で表されるため、回帰アルゴリズムである線形回帰は適しています。線形回帰は、特徴量と価格の関係を線形モデルでモデル化し、価格を予測します。\n",
    "\n",
    "２． 決定木 (Decision Trees):\n",
    "\n",
    "決定木は非線形な関係を捉えるのに適しており、特徴量の組み合わせに基づいて中古車の価格を予測することができます。過学習を防ぐために木の深さを調整できます。\n",
    "   \n",
    "３．  ランダムフォレスト (Random Forest):\n",
    "\n",
    "ランダムフォレストは、多くの決定木を組み合わせてアンサンブルする方法です。中古車の価格予測において、特徴量の重要性を評価しやすく、過学習にも強いです。\n",
    "\n",
    "４．  サポートベクトルマシン (Support Vector Machine, SVM):\n",
    "\n",
    "SVMは中古車の価格予測にも使用できる強力なアルゴリズムで、特にカーネルトリックを使用することで非線形な関係をモデル化できます。\n",
    "\n",
    "５．  ニューラルネットワーク (Neural Networks):\n",
    "ニューラルネットワークは深層学習アルゴリズムで、複雑なパターンや特徴を捉えるために使用できます。中古車価格の予測には、多層パーセプトロン（MLP）や回帰ニューラルネットワークが考えられます。"
   ]
  },
  {
   "cell_type": "markdown",
   "id": "88c9b66e",
   "metadata": {},
   "source": [
    "#### 問１６　one-hotエンコーディングとは何か？説明せよ"
   ]
  },
  {
   "cell_type": "markdown",
   "id": "aba7262f",
   "metadata": {},
   "source": [
    "　　One-hotエンコーディングは、カテゴリカル（離散的な値を持つ）データを数値データに変換するためのテクニックの一つです。主に機械学習アルゴリズムにカテゴリカルデータを提供するために使用されます。このエンコーディング手法は、カテゴリごとに新しいバイナリ特徴量を作成し、各カテゴリが存在する場合に1、存在しない場合に0という形式で表現します。"
   ]
  },
  {
   "cell_type": "markdown",
   "id": "64863985",
   "metadata": {},
   "source": [
    "#### 問１７　教師あり学習（分類）の代表的なアルゴリズムを５つあげよ  "
   ]
  },
  {
   "cell_type": "markdown",
   "id": "ea721ba1",
   "metadata": {},
   "source": [
    "１．  ロジスティック回帰 (Logistic Regression)\n",
    "２．  決定木 (Decision Trees)\n",
    "３．  ランダムフォレスト (Random Forest)\n",
    "４．  k最近傍法 (k-Nearest Neighbors, k-NN)\n",
    "５．  サポートベクトルマシン (Support Vector Machine, SVM)"
   ]
  },
  {
   "cell_type": "markdown",
   "id": "2eec4e91",
   "metadata": {},
   "source": [
    "#### 問１８　勾配ブースティングの特徴を３つあげよ  "
   ]
  },
  {
   "cell_type": "markdown",
   "id": "a2f6073e",
   "metadata": {},
   "source": [
    "１．  アンサンブル法の一形態:\n",
    "\n",
    "勾配ブースティングは、アンサンブル学習の一種であり、複数の弱学習器（通常は決定木）を組み合わせて強力な予測モデルを構築します。これにより、個々の弱学習器の弱点を補完し、高い予測性能を実現します。\n",
    "\n",
    "２．  勾配降下法を使用した学習:\n",
    "\n",
    "勾配ブースティングは、各ステップで前のステップの誤差を最小化するように学習します。これにより、モデルは徐々に誤差を減少させ、予測性能を向上させます。勾配降下法を用いるため、目的関数を微分することで最適な方向に学習します。\n",
    "\n",
    "３．  過学習に対する耐性:\n",
    "\n",
    "勾配ブースティングは過学習に対して相対的に耐性があるため、適切にチューニングされたモデルでは高い汎化性能を持つことができます。過学習を抑制するためのハイパーパラメータ調整が必要ですが、適切に行われれば強力なモデルを構築できます。"
   ]
  },
  {
   "cell_type": "markdown",
   "id": "cb4f1dad",
   "metadata": {},
   "source": [
    "#### 問１９　ランダムフォレストの特徴を３つあげよ。  "
   ]
  },
  {
   "cell_type": "markdown",
   "id": "80f91838",
   "metadata": {},
   "source": [
    "１．  アンサンブル学習:\n",
    "\n",
    "ランダムフォレストは、複数の決定木（通常は弱学習器）を組み合わせてアンサンブルするアルゴリズムです。これにより、各決定木の個別の予測を組み合わせ、高い予測性能を実現します。アンサンブル法の一種であるため、バギングの一形態と言えます。\n",
    "\n",
    "２．  バリアンスの削減:\n",
    "\n",
    "ランダムフォレストは、決定木ごとにランダムにサンプリングされたデータポイントおよび特徴量を使用します。これにより、個々の決定木が過学習しにくくなり、モデル全体のバリアンスを削減します。これは、安定性と汎化性能の向上に寄与します。\n",
    "\n",
    "３．  特徴量の重要性評価:\n",
    "\n",
    "ランダムフォレストは、各特徴量の重要性を評価するための情報を提供します。各特徴量が分類や回帰に対してどれだけ貢献しているかを測定し、モデルの理解や特徴量選択に役立ちます。重要な特徴量を特定するために使用されることがあります。"
   ]
  },
  {
   "cell_type": "markdown",
   "id": "f270fa78",
   "metadata": {},
   "source": [
    "#### 問２０　正解ラベルに欠損がある時、どのような処置を施すべきか？説明せよ。"
   ]
  },
  {
   "cell_type": "markdown",
   "id": "4997cefa",
   "metadata": {},
   "source": [
    "正解ラベル（ターゲット）に欠損がある場合、その処置は問題の性質によって異なります。以下に、異なるケースに対する一般的な対処方法を説明します:\n",
    "\n",
    "- 欠損値が無規則な場合:\n",
    "\n",
    "データセット内の欠損値がランダムに分布している場合、基本的には欠損値を含むデータポイントを削除することができます。ただし、削除する前に、欠損データを検討し、有用な情報が失われないかどうかを確認することが重要です。また、データが大規模である場合、欠損値の削除はモデルに与える影響が限定的であることがあります。\n",
    "\n",
    "- 欠損値のパターンに意味がある場合:\n",
    "\n",
    "欠損値のパターンに意味がある場合、欠損値を特別な値で埋めることが考えられます。例えば、欠損値を平均値、中央値、最頻値、またはデータセット内で特定のクラスのラベルで埋めることができます。この方法は情報の損失を最小限に抑えるために使用されます。\n",
    "\n",
    "- 欠損値が少数の場合:\n",
    "\n",
    "データセット内の欠損値が非常に少数の場合、これらの欠損値を無視してモデルをトレーニングすることができることがあります。ただし、欠損値が極端に少ない場合でも、影響がモデルに及ぶ可能性があるため、慎重に検討する必要があります。\n",
    "\n",
    "- 欠損値の予測モデルを使用する場合:\n",
    "\n",
    "ターゲットが欠損しているデータに対して、別のモデルをトレーニングして欠損値を予測する方法もあります。この場合、欠損値予測モデルを使用して、ターゲットを埋めることができます。ただし、このアプローチは計算コストが高いことがあります。"
   ]
  }
 ],
 "metadata": {
  "kernelspec": {
   "display_name": "Python 3 (ipykernel)",
   "language": "python",
   "name": "python3"
  },
  "language_info": {
   "codemirror_mode": {
    "name": "ipython",
    "version": 3
   },
   "file_extension": ".py",
   "mimetype": "text/x-python",
   "name": "python",
   "nbconvert_exporter": "python",
   "pygments_lexer": "ipython3",
   "version": "3.9.13"
  },
  "toc": {
   "base_numbering": 1,
   "nav_menu": {},
   "number_sections": true,
   "sideBar": true,
   "skip_h1_title": false,
   "title_cell": "Table of Contents",
   "title_sidebar": "Contents",
   "toc_cell": false,
   "toc_position": {},
   "toc_section_display": true,
   "toc_window_display": false
  }
 },
 "nbformat": 4,
 "nbformat_minor": 5
}
