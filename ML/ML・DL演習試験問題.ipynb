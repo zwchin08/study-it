{
 "cells": [
  {
   "cell_type": "markdown",
   "id": "4c9563a9",
   "metadata": {},
   "source": [
    "# ML／DL演習　試験問題"
   ]
  },
  {
   "cell_type": "markdown",
   "id": "8d3ffb55",
   "metadata": {},
   "source": [
    "### <font color='green'>・以下のセルに学籍番号と氏名を記入してください。セルはMarkdown形式となっていますので、ダブルクリックで入力してください</font>"
   ]
  },
  {
   "cell_type": "markdown",
   "id": "58bdea9f",
   "metadata": {},
   "source": [
    "学籍番号：　221115　　　　　　　　　氏名：陳　正偉"
   ]
  },
  {
   "cell_type": "markdown",
   "id": "432676d8",
   "metadata": {},
   "source": [
    "### <font color='green'>・終了後にファイル名を「学籍番号＋氏名.ipynb」に変更して提出して下さい</font>"
   ]
  },
  {
   "cell_type": "markdown",
   "id": "02dad1b7",
   "metadata": {},
   "source": [
    "### 以下の問に答えよ。テキストを見てもよい。ネット検索もOK。"
   ]
  },
  {
   "cell_type": "markdown",
   "id": "774ef998",
   "metadata": {},
   "source": [
    "問１～問１３　各５点  \n",
    "問１４～問１８　各７点  \n",
    "合計　１００点満点  "
   ]
  },
  {
   "cell_type": "markdown",
   "id": "6cde9068",
   "metadata": {},
   "source": [
    "#### 問１　pandas を importせよ"
   ]
  },
  {
   "cell_type": "code",
   "execution_count": 1,
   "id": "2218c553",
   "metadata": {},
   "outputs": [],
   "source": [
    "import pandas as pd"
   ]
  },
  {
   "cell_type": "markdown",
   "id": "579f62f6",
   "metadata": {},
   "source": [
    "#### 以下のコードを実行せよ"
   ]
  },
  {
   "cell_type": "code",
   "execution_count": 2,
   "id": "92631c15",
   "metadata": {},
   "outputs": [],
   "source": [
    "heart = pd.read_csv('https://drive.google.com/uc?id=1Ca-CWUzVNbM2ZRYb9XxwDRkR5iGwnpxI')"
   ]
  },
  {
   "cell_type": "markdown",
   "id": "e5e49031",
   "metadata": {},
   "source": [
    "このデータセットはUCIが提供しています。心臓病を予測するための分類問題に適用され、age、sexなど13種類の特徴量があり、正解データは最終列のnumとなっています。  \n",
    "正解データのnumは0から4までのクラスに分かれていますが、ここでは、0とそれ以外の2値にまとめて処理します。"
   ]
  },
  {
   "cell_type": "code",
   "execution_count": 5,
   "id": "5e9463bb",
   "metadata": {},
   "outputs": [],
   "source": [
    "\n",
    "# num列の値を0かそれ以外の2値に変換します\n",
    "heart['num'] = heart['num'].apply(lambda x: 0 if x == 0 else 1)\n"
   ]
  },
  {
   "cell_type": "markdown",
   "id": "56fee74b",
   "metadata": {},
   "source": [
    "#### 問２　heartの先頭5行を表示せよ"
   ]
  },
  {
   "cell_type": "code",
   "execution_count": 6,
   "id": "c9300fe9",
   "metadata": {},
   "outputs": [
    {
     "data": {
      "text/html": [
       "<div>\n",
       "<style scoped>\n",
       "    .dataframe tbody tr th:only-of-type {\n",
       "        vertical-align: middle;\n",
       "    }\n",
       "\n",
       "    .dataframe tbody tr th {\n",
       "        vertical-align: top;\n",
       "    }\n",
       "\n",
       "    .dataframe thead th {\n",
       "        text-align: right;\n",
       "    }\n",
       "</style>\n",
       "<table border=\"1\" class=\"dataframe\">\n",
       "  <thead>\n",
       "    <tr style=\"text-align: right;\">\n",
       "      <th></th>\n",
       "      <th>age</th>\n",
       "      <th>sex</th>\n",
       "      <th>cp</th>\n",
       "      <th>trestbps</th>\n",
       "      <th>chol</th>\n",
       "      <th>fbs</th>\n",
       "      <th>restecg</th>\n",
       "      <th>thalach</th>\n",
       "      <th>exang</th>\n",
       "      <th>oldpeak</th>\n",
       "      <th>slope</th>\n",
       "      <th>ca</th>\n",
       "      <th>thal</th>\n",
       "      <th>num</th>\n",
       "    </tr>\n",
       "  </thead>\n",
       "  <tbody>\n",
       "    <tr>\n",
       "      <th>0</th>\n",
       "      <td>63.0</td>\n",
       "      <td>1.0</td>\n",
       "      <td>1.0</td>\n",
       "      <td>145.0</td>\n",
       "      <td>233.0</td>\n",
       "      <td>1.0</td>\n",
       "      <td>2.0</td>\n",
       "      <td>150.0</td>\n",
       "      <td>0.0</td>\n",
       "      <td>2.3</td>\n",
       "      <td>3.0</td>\n",
       "      <td>0.0</td>\n",
       "      <td>6.0</td>\n",
       "      <td>0</td>\n",
       "    </tr>\n",
       "    <tr>\n",
       "      <th>1</th>\n",
       "      <td>67.0</td>\n",
       "      <td>1.0</td>\n",
       "      <td>4.0</td>\n",
       "      <td>160.0</td>\n",
       "      <td>286.0</td>\n",
       "      <td>0.0</td>\n",
       "      <td>2.0</td>\n",
       "      <td>108.0</td>\n",
       "      <td>1.0</td>\n",
       "      <td>1.5</td>\n",
       "      <td>2.0</td>\n",
       "      <td>3.0</td>\n",
       "      <td>3.0</td>\n",
       "      <td>1</td>\n",
       "    </tr>\n",
       "    <tr>\n",
       "      <th>2</th>\n",
       "      <td>67.0</td>\n",
       "      <td>1.0</td>\n",
       "      <td>4.0</td>\n",
       "      <td>120.0</td>\n",
       "      <td>229.0</td>\n",
       "      <td>0.0</td>\n",
       "      <td>2.0</td>\n",
       "      <td>129.0</td>\n",
       "      <td>1.0</td>\n",
       "      <td>2.6</td>\n",
       "      <td>2.0</td>\n",
       "      <td>2.0</td>\n",
       "      <td>7.0</td>\n",
       "      <td>1</td>\n",
       "    </tr>\n",
       "    <tr>\n",
       "      <th>3</th>\n",
       "      <td>37.0</td>\n",
       "      <td>1.0</td>\n",
       "      <td>3.0</td>\n",
       "      <td>130.0</td>\n",
       "      <td>250.0</td>\n",
       "      <td>0.0</td>\n",
       "      <td>0.0</td>\n",
       "      <td>187.0</td>\n",
       "      <td>0.0</td>\n",
       "      <td>3.5</td>\n",
       "      <td>3.0</td>\n",
       "      <td>0.0</td>\n",
       "      <td>3.0</td>\n",
       "      <td>0</td>\n",
       "    </tr>\n",
       "    <tr>\n",
       "      <th>4</th>\n",
       "      <td>41.0</td>\n",
       "      <td>0.0</td>\n",
       "      <td>2.0</td>\n",
       "      <td>130.0</td>\n",
       "      <td>204.0</td>\n",
       "      <td>0.0</td>\n",
       "      <td>2.0</td>\n",
       "      <td>172.0</td>\n",
       "      <td>0.0</td>\n",
       "      <td>1.4</td>\n",
       "      <td>1.0</td>\n",
       "      <td>0.0</td>\n",
       "      <td>3.0</td>\n",
       "      <td>0</td>\n",
       "    </tr>\n",
       "  </tbody>\n",
       "</table>\n",
       "</div>"
      ],
      "text/plain": [
       "    age  sex   cp  trestbps   chol  fbs  restecg  thalach  exang  oldpeak  \\\n",
       "0  63.0  1.0  1.0     145.0  233.0  1.0      2.0    150.0    0.0      2.3   \n",
       "1  67.0  1.0  4.0     160.0  286.0  0.0      2.0    108.0    1.0      1.5   \n",
       "2  67.0  1.0  4.0     120.0  229.0  0.0      2.0    129.0    1.0      2.6   \n",
       "3  37.0  1.0  3.0     130.0  250.0  0.0      0.0    187.0    0.0      3.5   \n",
       "4  41.0  0.0  2.0     130.0  204.0  0.0      2.0    172.0    0.0      1.4   \n",
       "\n",
       "   slope   ca  thal  num  \n",
       "0    3.0  0.0   6.0    0  \n",
       "1    2.0  3.0   3.0    1  \n",
       "2    2.0  2.0   7.0    1  \n",
       "3    3.0  0.0   3.0    0  \n",
       "4    1.0  0.0   3.0    0  "
      ]
     },
     "execution_count": 6,
     "metadata": {},
     "output_type": "execute_result"
    }
   ],
   "source": [
    "heart.head()"
   ]
  },
  {
   "cell_type": "markdown",
   "id": "0b2e1106",
   "metadata": {},
   "source": [
    "#### 問３　heart の行数と列数を求めよ"
   ]
  },
  {
   "cell_type": "code",
   "execution_count": 7,
   "id": "39dff829",
   "metadata": {},
   "outputs": [
    {
     "name": "stdout",
     "output_type": "stream",
     "text": [
      "行数: 303, 列数: 14\n"
     ]
    }
   ],
   "source": [
    "rows, columns = heart.shape\n",
    "print(f\"行数: {rows}, 列数: {columns}\")"
   ]
  },
  {
   "cell_type": "markdown",
   "id": "1c44af3f",
   "metadata": {},
   "source": [
    "#### 問４　heart の統計量を求めよ"
   ]
  },
  {
   "cell_type": "code",
   "execution_count": 8,
   "id": "31b1f35b",
   "metadata": {},
   "outputs": [
    {
     "data": {
      "text/html": [
       "<div>\n",
       "<style scoped>\n",
       "    .dataframe tbody tr th:only-of-type {\n",
       "        vertical-align: middle;\n",
       "    }\n",
       "\n",
       "    .dataframe tbody tr th {\n",
       "        vertical-align: top;\n",
       "    }\n",
       "\n",
       "    .dataframe thead th {\n",
       "        text-align: right;\n",
       "    }\n",
       "</style>\n",
       "<table border=\"1\" class=\"dataframe\">\n",
       "  <thead>\n",
       "    <tr style=\"text-align: right;\">\n",
       "      <th></th>\n",
       "      <th>age</th>\n",
       "      <th>sex</th>\n",
       "      <th>cp</th>\n",
       "      <th>trestbps</th>\n",
       "      <th>chol</th>\n",
       "      <th>fbs</th>\n",
       "      <th>restecg</th>\n",
       "      <th>thalach</th>\n",
       "      <th>exang</th>\n",
       "      <th>oldpeak</th>\n",
       "      <th>slope</th>\n",
       "      <th>ca</th>\n",
       "      <th>thal</th>\n",
       "      <th>num</th>\n",
       "    </tr>\n",
       "  </thead>\n",
       "  <tbody>\n",
       "    <tr>\n",
       "      <th>count</th>\n",
       "      <td>303.000000</td>\n",
       "      <td>303.000000</td>\n",
       "      <td>303.000000</td>\n",
       "      <td>303.000000</td>\n",
       "      <td>303.000000</td>\n",
       "      <td>303.000000</td>\n",
       "      <td>303.000000</td>\n",
       "      <td>303.000000</td>\n",
       "      <td>303.000000</td>\n",
       "      <td>303.000000</td>\n",
       "      <td>303.000000</td>\n",
       "      <td>299.000000</td>\n",
       "      <td>301.000000</td>\n",
       "      <td>303.000000</td>\n",
       "    </tr>\n",
       "    <tr>\n",
       "      <th>mean</th>\n",
       "      <td>54.438944</td>\n",
       "      <td>0.679868</td>\n",
       "      <td>3.158416</td>\n",
       "      <td>131.689769</td>\n",
       "      <td>246.693069</td>\n",
       "      <td>0.148515</td>\n",
       "      <td>0.990099</td>\n",
       "      <td>149.607261</td>\n",
       "      <td>0.326733</td>\n",
       "      <td>1.039604</td>\n",
       "      <td>1.600660</td>\n",
       "      <td>0.672241</td>\n",
       "      <td>4.734219</td>\n",
       "      <td>0.458746</td>\n",
       "    </tr>\n",
       "    <tr>\n",
       "      <th>std</th>\n",
       "      <td>9.038662</td>\n",
       "      <td>0.467299</td>\n",
       "      <td>0.960126</td>\n",
       "      <td>17.599748</td>\n",
       "      <td>51.776918</td>\n",
       "      <td>0.356198</td>\n",
       "      <td>0.994971</td>\n",
       "      <td>22.875003</td>\n",
       "      <td>0.469794</td>\n",
       "      <td>1.161075</td>\n",
       "      <td>0.616226</td>\n",
       "      <td>0.937438</td>\n",
       "      <td>1.939706</td>\n",
       "      <td>0.499120</td>\n",
       "    </tr>\n",
       "    <tr>\n",
       "      <th>min</th>\n",
       "      <td>29.000000</td>\n",
       "      <td>0.000000</td>\n",
       "      <td>1.000000</td>\n",
       "      <td>94.000000</td>\n",
       "      <td>126.000000</td>\n",
       "      <td>0.000000</td>\n",
       "      <td>0.000000</td>\n",
       "      <td>71.000000</td>\n",
       "      <td>0.000000</td>\n",
       "      <td>0.000000</td>\n",
       "      <td>1.000000</td>\n",
       "      <td>0.000000</td>\n",
       "      <td>3.000000</td>\n",
       "      <td>0.000000</td>\n",
       "    </tr>\n",
       "    <tr>\n",
       "      <th>25%</th>\n",
       "      <td>48.000000</td>\n",
       "      <td>0.000000</td>\n",
       "      <td>3.000000</td>\n",
       "      <td>120.000000</td>\n",
       "      <td>211.000000</td>\n",
       "      <td>0.000000</td>\n",
       "      <td>0.000000</td>\n",
       "      <td>133.500000</td>\n",
       "      <td>0.000000</td>\n",
       "      <td>0.000000</td>\n",
       "      <td>1.000000</td>\n",
       "      <td>0.000000</td>\n",
       "      <td>3.000000</td>\n",
       "      <td>0.000000</td>\n",
       "    </tr>\n",
       "    <tr>\n",
       "      <th>50%</th>\n",
       "      <td>56.000000</td>\n",
       "      <td>1.000000</td>\n",
       "      <td>3.000000</td>\n",
       "      <td>130.000000</td>\n",
       "      <td>241.000000</td>\n",
       "      <td>0.000000</td>\n",
       "      <td>1.000000</td>\n",
       "      <td>153.000000</td>\n",
       "      <td>0.000000</td>\n",
       "      <td>0.800000</td>\n",
       "      <td>2.000000</td>\n",
       "      <td>0.000000</td>\n",
       "      <td>3.000000</td>\n",
       "      <td>0.000000</td>\n",
       "    </tr>\n",
       "    <tr>\n",
       "      <th>75%</th>\n",
       "      <td>61.000000</td>\n",
       "      <td>1.000000</td>\n",
       "      <td>4.000000</td>\n",
       "      <td>140.000000</td>\n",
       "      <td>275.000000</td>\n",
       "      <td>0.000000</td>\n",
       "      <td>2.000000</td>\n",
       "      <td>166.000000</td>\n",
       "      <td>1.000000</td>\n",
       "      <td>1.600000</td>\n",
       "      <td>2.000000</td>\n",
       "      <td>1.000000</td>\n",
       "      <td>7.000000</td>\n",
       "      <td>1.000000</td>\n",
       "    </tr>\n",
       "    <tr>\n",
       "      <th>max</th>\n",
       "      <td>77.000000</td>\n",
       "      <td>1.000000</td>\n",
       "      <td>4.000000</td>\n",
       "      <td>200.000000</td>\n",
       "      <td>564.000000</td>\n",
       "      <td>1.000000</td>\n",
       "      <td>2.000000</td>\n",
       "      <td>202.000000</td>\n",
       "      <td>1.000000</td>\n",
       "      <td>6.200000</td>\n",
       "      <td>3.000000</td>\n",
       "      <td>3.000000</td>\n",
       "      <td>7.000000</td>\n",
       "      <td>1.000000</td>\n",
       "    </tr>\n",
       "  </tbody>\n",
       "</table>\n",
       "</div>"
      ],
      "text/plain": [
       "              age         sex          cp    trestbps        chol         fbs  \\\n",
       "count  303.000000  303.000000  303.000000  303.000000  303.000000  303.000000   \n",
       "mean    54.438944    0.679868    3.158416  131.689769  246.693069    0.148515   \n",
       "std      9.038662    0.467299    0.960126   17.599748   51.776918    0.356198   \n",
       "min     29.000000    0.000000    1.000000   94.000000  126.000000    0.000000   \n",
       "25%     48.000000    0.000000    3.000000  120.000000  211.000000    0.000000   \n",
       "50%     56.000000    1.000000    3.000000  130.000000  241.000000    0.000000   \n",
       "75%     61.000000    1.000000    4.000000  140.000000  275.000000    0.000000   \n",
       "max     77.000000    1.000000    4.000000  200.000000  564.000000    1.000000   \n",
       "\n",
       "          restecg     thalach       exang     oldpeak       slope          ca  \\\n",
       "count  303.000000  303.000000  303.000000  303.000000  303.000000  299.000000   \n",
       "mean     0.990099  149.607261    0.326733    1.039604    1.600660    0.672241   \n",
       "std      0.994971   22.875003    0.469794    1.161075    0.616226    0.937438   \n",
       "min      0.000000   71.000000    0.000000    0.000000    1.000000    0.000000   \n",
       "25%      0.000000  133.500000    0.000000    0.000000    1.000000    0.000000   \n",
       "50%      1.000000  153.000000    0.000000    0.800000    2.000000    0.000000   \n",
       "75%      2.000000  166.000000    1.000000    1.600000    2.000000    1.000000   \n",
       "max      2.000000  202.000000    1.000000    6.200000    3.000000    3.000000   \n",
       "\n",
       "             thal         num  \n",
       "count  301.000000  303.000000  \n",
       "mean     4.734219    0.458746  \n",
       "std      1.939706    0.499120  \n",
       "min      3.000000    0.000000  \n",
       "25%      3.000000    0.000000  \n",
       "50%      3.000000    0.000000  \n",
       "75%      7.000000    1.000000  \n",
       "max      7.000000    1.000000  "
      ]
     },
     "execution_count": 8,
     "metadata": {},
     "output_type": "execute_result"
    }
   ],
   "source": [
    "heart.describe()"
   ]
  },
  {
   "cell_type": "markdown",
   "id": "3d6a7ade",
   "metadata": {},
   "source": [
    "#### 問５　欠損値がある行を削除せよ\n",
    "\n",
    "ヒント：欠損値を削除する関数は、デフォルトでは新しいオブジェクトを返して元のオブジェクトは変更されない。そのため、元の変数に再代入するか、又は、引数inplace=Trueとする。"
   ]
  },
  {
   "cell_type": "code",
   "execution_count": 9,
   "id": "0787c2ac",
   "metadata": {},
   "outputs": [],
   "source": [
    "heart.dropna(inplace=True)"
   ]
  },
  {
   "cell_type": "markdown",
   "id": "765ebfe5",
   "metadata": {},
   "source": [
    "#### 問６　num カラムを以下のように変換せよ\n",
    "\n",
    "~~~\n",
    "変換前　変換後\n",
    "0       0\n",
    "1       1\n",
    "2       1\n",
    "3       1\n",
    "4       1\n",
    "~~~\n",
    "\n",
    "ヒント：①上記の変換前と変換後の辞書を作る  \n",
    "　　　　　class_mapping = {0:0, 1:1, 2:1, ・・・}  \n",
    "　　　　②上記の辞書を使って、heart['num']カラムにmap関数を適用させる  map(class_mapping)  "
   ]
  },
  {
   "cell_type": "code",
   "execution_count": 10,
   "id": "47a05543",
   "metadata": {},
   "outputs": [],
   "source": [
    "class_mapping = {0: 0, 1: 1, 2: 1, 3: 1, 4: 1}\n",
    "heart['num'] = heart['num'].map(class_mapping)"
   ]
  },
  {
   "cell_type": "markdown",
   "id": "79f8ddc7",
   "metadata": {},
   "source": [
    "#### 問７　num の 0, 1 別に各特徴量の平均値を求めよ\n",
    "ヒント：①numでグープ分けする　heart.groupby('num')  \n",
    "　　　　②グループ分けしたモノに対して平均を求める　mean()を使う"
   ]
  },
  {
   "cell_type": "code",
   "execution_count": 11,
   "id": "563cec04",
   "metadata": {},
   "outputs": [
    {
     "name": "stdout",
     "output_type": "stream",
     "text": [
      "           age       sex        cp    trestbps        chol       fbs  \\\n",
      "num                                                                    \n",
      "0    52.643750  0.556250  2.793750  129.175000  243.493750  0.143750   \n",
      "1    56.759124  0.817518  3.583942  134.635036  251.854015  0.145985   \n",
      "\n",
      "      restecg     thalach     exang   oldpeak     slope        ca      thal  \n",
      "num                                                                          \n",
      "0    0.843750  158.581250  0.143750  0.598750  1.412500  0.275000  3.787500  \n",
      "1    1.175182  139.109489  0.540146  1.589051  1.824818  1.145985  5.832117  \n"
     ]
    }
   ],
   "source": [
    "# 'num'カラムの値でデータをグループ分けし、各特徴量の平均値を求める\n",
    "grouped = heart.groupby('num').mean()\n",
    "\n",
    "print(grouped)"
   ]
  },
  {
   "cell_type": "markdown",
   "id": "005d51fe",
   "metadata": {},
   "source": [
    "#### 問８　特徴量（X）、正解データ（y）をセットせよ\n",
    "\n",
    "やりたい事は、  \n",
    "①heartから特徴量を抜き出してXに代入  \n",
    "②heartから正解データを抜き出してyに代入  \n",
    "\n",
    "それで、  \n",
    "①特徴量はage列（0番目）からthal列（12番目）なので、iloc[:, 0:13] または　iloc[:, :,-1]  \n",
    "②正解データはnum列（13番目）なので、iloc[:, 13] または　iloc[:, -1]  \n",
    "となる  \n",
    "\n",
    "Xは大文字、yは小文字とする  "
   ]
  },
  {
   "cell_type": "code",
   "execution_count": 12,
   "id": "ae18cfc7",
   "metadata": {},
   "outputs": [],
   "source": [
    "X = heart.iloc[:, 0:13]  # または heart.iloc[:, :-1]\n",
    "y = heart.iloc[:, 13]   # または heart.iloc[:, -1]"
   ]
  },
  {
   "cell_type": "markdown",
   "id": "9a9c5a9b",
   "metadata": {},
   "source": [
    "#### 問９　X と y を訓練データとテストデータに分割せよ\n",
    "\n",
    "やりたい事は、XをX_trainとX_testに分割、yをy_trainとy_testに分割すること  \n",
    "分割の割合は8：2にする。（test_size=0.2）  \n",
    "train_test_split関数を使う　（from sklearn.model_selection import train_test_split）  "
   ]
  },
  {
   "cell_type": "code",
   "execution_count": 14,
   "id": "7c50c224",
   "metadata": {},
   "outputs": [
    {
     "name": "stdout",
     "output_type": "stream",
     "text": [
      "X_trainのサイズ: (237, 13)\n",
      "X_testのサイズ: (60, 13)\n",
      "y_trainのサイズ: (237,)\n",
      "y_testのサイズ: (60,)\n"
     ]
    }
   ],
   "source": [
    "from sklearn.model_selection import train_test_split\n",
    "\n",
    "X_train, X_test, y_train, y_test = train_test_split(X, y, test_size=0.2, random_state=42)\n",
    "\n",
    "print(\"X_trainのサイズ:\", X_train.shape)\n",
    "print(\"X_testのサイズ:\", X_test.shape)\n",
    "print(\"y_trainのサイズ:\", y_train.shape)\n",
    "print(\"y_testのサイズ:\", y_test.shape)"
   ]
  },
  {
   "cell_type": "markdown",
   "id": "c670cc7b",
   "metadata": {},
   "source": [
    "#### 問１０　ランダムフォレストをインポートし、インスタンス化せよ\n",
    "\n",
    "やりたいことは、ランダムフォレストのインポート　　（from sklearn.ensemble import RandomForestClassifier）  \n",
    "次にランダムフォレストをインスタンス化する。ランダムフォレストはクラスなのでインスタンス化しないと使えないため。    \n",
    "インスタンス化は、一般的にインスタンス変数名=クラス名()のようにする。  \n",
    "例：rf = RandomForestClassifier()  "
   ]
  },
  {
   "cell_type": "code",
   "execution_count": 15,
   "id": "26f4ad19",
   "metadata": {},
   "outputs": [],
   "source": [
    "from sklearn.ensemble import RandomForestClassifier\n",
    "\n",
    "# ランダムフォレストをインスタンス化\n",
    "rf = RandomForestClassifier()"
   ]
  },
  {
   "cell_type": "markdown",
   "id": "ac2801c5",
   "metadata": {},
   "source": [
    "#### 問１１　訓練データを与えて、モデルを学習させよ\n",
    "\n",
    "やりたいことは、rfというモデルに訓練データ（X_train, y_train）を与えて、学習させること。  \n",
    "やることは、rfに対してfitメソッドを働かせるダケ！"
   ]
  },
  {
   "cell_type": "code",
   "execution_count": 16,
   "id": "43c20969",
   "metadata": {},
   "outputs": [
    {
     "data": {
      "text/plain": [
       "RandomForestClassifier()"
      ]
     },
     "execution_count": 16,
     "metadata": {},
     "output_type": "execute_result"
    }
   ],
   "source": [
    "# ランダムフォレストモデルに訓練データを与えて学習させる\n",
    "rf.fit(X_train, y_train)"
   ]
  },
  {
   "cell_type": "markdown",
   "id": "060bda3d",
   "metadata": {},
   "source": [
    "#### 問１２　訓練データに対する正解率を求めよ\n",
    "\n",
    "やりたいことは、訓練データを使って、学習済みモデル（rf）の性能（正解率）を評価すること    \n",
    "やることは、  \n",
    "①まず、正解率を求める関数をインポートする  from sklearn.metrics import accuracy_score  \n",
    "②学習済みモデル（rf）に訓練データ（X_train）を与えて、正解データを予測させる　rf.predict(X_train)  \n",
    "③この予測した正解データと元々あった正解データ（y_train）をaccuracy_scoreに与えて、正解率を計算させる  "
   ]
  },
  {
   "cell_type": "code",
   "execution_count": 17,
   "id": "5bc55063",
   "metadata": {},
   "outputs": [
    {
     "name": "stdout",
     "output_type": "stream",
     "text": [
      "訓練データに対する正解率: 1.0\n"
     ]
    }
   ],
   "source": [
    "from sklearn.metrics import accuracy_score\n",
    "\n",
    "# 訓練データに対する予測を行う\n",
    "y_train_pred = rf.predict(X_train)\n",
    "\n",
    "# 正解率を計算する\n",
    "train_accuracy = accuracy_score(y_train, y_train_pred)\n",
    "\n",
    "# 結果を表示\n",
    "print(\"訓練データに対する正解率:\", train_accuracy)"
   ]
  },
  {
   "cell_type": "markdown",
   "id": "6201c0f8",
   "metadata": {},
   "source": [
    "#### 問１３　テストデータに対する正解率を求めよ\n",
    "\n",
    "やりたいことは、テストデータを使って、学習済みモデル（rf）の性能（正解率）を評価すること    \n",
    "やることは、問１２のX_trainデータをX_testデータに置き換えるだけ"
   ]
  },
  {
   "cell_type": "code",
   "execution_count": 18,
   "id": "b795917e",
   "metadata": {},
   "outputs": [
    {
     "name": "stdout",
     "output_type": "stream",
     "text": [
      "テストデータに対する正解率: 0.9\n"
     ]
    }
   ],
   "source": [
    "from sklearn.metrics import accuracy_score\n",
    "\n",
    "# テストデータに対する予測を行う\n",
    "y_test_pred = rf.predict(X_test)\n",
    "\n",
    "# 正解率を計算する\n",
    "test_accuracy = accuracy_score(y_test, y_test_pred)\n",
    "\n",
    "# 結果を表示\n",
    "print(\"テストデータに対する正解率:\", test_accuracy)"
   ]
  },
  {
   "cell_type": "markdown",
   "id": "496f5b5c",
   "metadata": {},
   "source": [
    "訓練データの正解率とテストデータの正解率がかなり違う結果となっていると思う。どのような事が起きているのか？考えてみよう！"
   ]
  },
  {
   "cell_type": "markdown",
   "id": "41c16ab5",
   "metadata": {},
   "source": [
    "#### <font color='green'>以降の問題はgoogle colab上で実行しているという前提で答えて下さい。</font>"
   ]
  },
  {
   "cell_type": "markdown",
   "id": "15b6496f",
   "metadata": {},
   "source": [
    "#### mnistのデータを読み込んで、kerasなど必要なライブラリーをインポートし、one-hotなどの加工を行い、シーケンシャルモデルを構築するために以下のコードを書いた。\n",
    "~~~\n",
    "model = Sequential()\n",
    "~~~\n",
    "この状態で以下の問に答えて下さい。"
   ]
  },
  {
   "cell_type": "markdown",
   "id": "ef051bd3",
   "metadata": {},
   "source": [
    "#### 問１４　上記（model）に畳み込み層を追加したい。\n",
    "畳み込みの内容を、  \n",
    "・フィルターの大きさが3×3  \n",
    "・フィルターの枚数が16  \n",
    "とした時、適切なコードの番号を以下のセルに入力せよ。\n",
    "~~~\n",
    "1.  model.add(Conv2D(16, (3, 3), input_shape=(28, 28, 1)))\n",
    "2.  model.add(Conv2D(3, (16, 16), input_shape=(28, 28, 1)))\n",
    "3.  model.add(Conv2D((3, 3), 16, input_shape=(28, 28, 1)))\n",
    "~~~"
   ]
  },
  {
   "cell_type": "code",
   "execution_count": null,
   "id": "4efe7aae",
   "metadata": {},
   "outputs": [],
   "source": []
  },
  {
   "cell_type": "markdown",
   "id": "39780cb8",
   "metadata": {},
   "source": [
    "#### 問１５　上記（model）に活性化関数を追加したい。適切なコードを選べ。\n",
    "~~~\n",
    "1.  model.add(Activation('sigmoid'))\n",
    "2.  model.add(Activation('relu'))\n",
    "3.  model.add(Activation('softmax'))\n",
    "~~~"
   ]
  },
  {
   "cell_type": "code",
   "execution_count": null,
   "id": "5a9af3d2",
   "metadata": {},
   "outputs": [],
   "source": []
  },
  {
   "cell_type": "markdown",
   "id": "287f1619",
   "metadata": {},
   "source": [
    "#### 問１６　上記（model）にMaxPoolingを追加したい\n",
    "\n",
    "画像をそれぞれの次元で半分にするとした時、適切なコードを選べ。\n",
    "\n",
    "~~~\n",
    "1.  model.add(MaxPooling2D((2, 1)))\n",
    "2.  model.add(MaxPooling2D((2, 2)))\n",
    "3.  model.add(MaxPooling2D((1, 2)))\n",
    "~~~"
   ]
  },
  {
   "cell_type": "code",
   "execution_count": null,
   "id": "8c5c024e",
   "metadata": {},
   "outputs": [],
   "source": []
  },
  {
   "cell_type": "markdown",
   "id": "290eff49",
   "metadata": {},
   "source": [
    "#### 問１７　最後の出力層に接続するために1次元配列に変換したい。適切なコードを選べ。\n",
    "~~~\n",
    "1.  model.add(Flatten())\n",
    "2.  model.add(Ravel())\n",
    "3.  model.add(Array())\n",
    "~~~"
   ]
  },
  {
   "cell_type": "code",
   "execution_count": null,
   "id": "756ed48a",
   "metadata": {},
   "outputs": [],
   "source": []
  },
  {
   "cell_type": "markdown",
   "id": "ec1c906e",
   "metadata": {},
   "source": [
    "#### 問１８　上記（model）に０～９までの数字の確率を出力するための出力層を追加したい。適切なコードを選べ。\n",
    "~~~\n",
    "1.  model.add(Dense(10, activate='softmax'))\n",
    "2.  model.add(Dense(2, activate='sigmoid'))\n",
    "3.  model.add(Dense(10, activate='relu'))\n",
    "\n",
    "~~~"
   ]
  },
  {
   "cell_type": "code",
   "execution_count": null,
   "id": "2457cf9e",
   "metadata": {},
   "outputs": [],
   "source": []
  }
 ],
 "metadata": {
  "kernelspec": {
   "display_name": "Python 3 (ipykernel)",
   "language": "python",
   "name": "python3"
  },
  "language_info": {
   "codemirror_mode": {
    "name": "ipython",
    "version": 3
   },
   "file_extension": ".py",
   "mimetype": "text/x-python",
   "name": "python",
   "nbconvert_exporter": "python",
   "pygments_lexer": "ipython3",
   "version": "3.9.13"
  },
  "toc": {
   "base_numbering": 1,
   "nav_menu": {},
   "number_sections": true,
   "sideBar": true,
   "skip_h1_title": false,
   "title_cell": "Table of Contents",
   "title_sidebar": "Contents",
   "toc_cell": false,
   "toc_position": {},
   "toc_section_display": true,
   "toc_window_display": false
  }
 },
 "nbformat": 4,
 "nbformat_minor": 5
}
