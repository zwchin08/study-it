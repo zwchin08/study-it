{
 "cells": [
  {
   "cell_type": "markdown",
   "id": "9bdb973d",
   "metadata": {},
   "source": [
    "# 演習課題"
   ]
  },
  {
   "cell_type": "markdown",
   "id": "de32d2ca",
   "metadata": {},
   "source": [
    "### <font color='green'>・以下のセルに学籍番号と氏名を記入してください。セルはMarkdown形式となっていますので、ダブルクリックで入力してください</font>"
   ]
  },
  {
   "cell_type": "markdown",
   "id": "3cd6521d",
   "metadata": {},
   "source": [
    "学籍番号：　　221115　　　　　　　　　　氏名： 陳　正偉"
   ]
  },
  {
   "cell_type": "markdown",
   "id": "aa24a9f3",
   "metadata": {},
   "source": [
    "### <font color='green'>・終了後にファイル名を「学籍番号＋氏名.ipynb」に変更し、提出方法について試験開始時に説明します。</font>"
   ]
  },
  {
   "cell_type": "markdown",
   "id": "ddc705ac",
   "metadata": {},
   "source": [
    "### UCIのデータを使ってワインの品質を予測する分類モデルを作ってみよう"
   ]
  },
  {
   "cell_type": "markdown",
   "id": "6cde9068",
   "metadata": {},
   "source": [
    "#### Step１　pandas を importしよう"
   ]
  },
  {
   "cell_type": "code",
   "execution_count": 17,
   "id": "2218c553",
   "metadata": {},
   "outputs": [],
   "source": [
    "import pandas as pd"
   ]
  },
  {
   "cell_type": "markdown",
   "id": "56fee74b",
   "metadata": {},
   "source": [
    "#### Step２　UCIのワインデータセットを読み込んでデータフレームに格納しよう\n",
    "データは'https://drive.google.com/uc?id=1pCh5Rq54SgzD60yXBAWQiLkBf5aDv5Po'に格納されている。  \n",
    "- データはヘッダーあり、セミコロン区切り（;）のCSV \n",
    "- データフレームの名称はwineとせよ  \n",
    "- read_csvを使う\n",
    "- read_csvはファイル名の指定だけでなく、URLも受け付ける\n",
    "- 読込んだデータフレームの先頭5行を表示する"
   ]
  },
  {
   "cell_type": "code",
   "execution_count": 18,
   "id": "39dff829",
   "metadata": {},
   "outputs": [
    {
     "data": {
      "text/html": [
       "<div>\n",
       "<style scoped>\n",
       "    .dataframe tbody tr th:only-of-type {\n",
       "        vertical-align: middle;\n",
       "    }\n",
       "\n",
       "    .dataframe tbody tr th {\n",
       "        vertical-align: top;\n",
       "    }\n",
       "\n",
       "    .dataframe thead th {\n",
       "        text-align: right;\n",
       "    }\n",
       "</style>\n",
       "<table border=\"1\" class=\"dataframe\">\n",
       "  <thead>\n",
       "    <tr style=\"text-align: right;\">\n",
       "      <th></th>\n",
       "      <th>fixed acidity</th>\n",
       "      <th>volatile acidity</th>\n",
       "      <th>citric acid</th>\n",
       "      <th>residual sugar</th>\n",
       "      <th>chlorides</th>\n",
       "      <th>free sulfur dioxide</th>\n",
       "      <th>total sulfur dioxide</th>\n",
       "      <th>density</th>\n",
       "      <th>pH</th>\n",
       "      <th>sulphates</th>\n",
       "      <th>alcohol</th>\n",
       "      <th>quality</th>\n",
       "    </tr>\n",
       "  </thead>\n",
       "  <tbody>\n",
       "    <tr>\n",
       "      <th>0</th>\n",
       "      <td>7.0</td>\n",
       "      <td>0.27</td>\n",
       "      <td>0.36</td>\n",
       "      <td>20.7</td>\n",
       "      <td>0.045</td>\n",
       "      <td>45.0</td>\n",
       "      <td>170.0</td>\n",
       "      <td>1.0010</td>\n",
       "      <td>3.00</td>\n",
       "      <td>0.45</td>\n",
       "      <td>8.8</td>\n",
       "      <td>6</td>\n",
       "    </tr>\n",
       "    <tr>\n",
       "      <th>1</th>\n",
       "      <td>6.3</td>\n",
       "      <td>0.30</td>\n",
       "      <td>0.34</td>\n",
       "      <td>1.6</td>\n",
       "      <td>0.049</td>\n",
       "      <td>14.0</td>\n",
       "      <td>132.0</td>\n",
       "      <td>0.9940</td>\n",
       "      <td>3.30</td>\n",
       "      <td>0.49</td>\n",
       "      <td>9.5</td>\n",
       "      <td>6</td>\n",
       "    </tr>\n",
       "    <tr>\n",
       "      <th>2</th>\n",
       "      <td>8.1</td>\n",
       "      <td>0.28</td>\n",
       "      <td>0.40</td>\n",
       "      <td>6.9</td>\n",
       "      <td>0.050</td>\n",
       "      <td>30.0</td>\n",
       "      <td>97.0</td>\n",
       "      <td>0.9951</td>\n",
       "      <td>3.26</td>\n",
       "      <td>0.44</td>\n",
       "      <td>10.1</td>\n",
       "      <td>6</td>\n",
       "    </tr>\n",
       "    <tr>\n",
       "      <th>3</th>\n",
       "      <td>7.2</td>\n",
       "      <td>0.23</td>\n",
       "      <td>0.32</td>\n",
       "      <td>8.5</td>\n",
       "      <td>0.058</td>\n",
       "      <td>47.0</td>\n",
       "      <td>186.0</td>\n",
       "      <td>0.9956</td>\n",
       "      <td>3.19</td>\n",
       "      <td>0.40</td>\n",
       "      <td>9.9</td>\n",
       "      <td>6</td>\n",
       "    </tr>\n",
       "    <tr>\n",
       "      <th>4</th>\n",
       "      <td>7.2</td>\n",
       "      <td>0.23</td>\n",
       "      <td>0.32</td>\n",
       "      <td>8.5</td>\n",
       "      <td>0.058</td>\n",
       "      <td>47.0</td>\n",
       "      <td>186.0</td>\n",
       "      <td>0.9956</td>\n",
       "      <td>3.19</td>\n",
       "      <td>0.40</td>\n",
       "      <td>9.9</td>\n",
       "      <td>6</td>\n",
       "    </tr>\n",
       "  </tbody>\n",
       "</table>\n",
       "</div>"
      ],
      "text/plain": [
       "   fixed acidity  volatile acidity  citric acid  residual sugar  chlorides  \\\n",
       "0            7.0              0.27         0.36            20.7      0.045   \n",
       "1            6.3              0.30         0.34             1.6      0.049   \n",
       "2            8.1              0.28         0.40             6.9      0.050   \n",
       "3            7.2              0.23         0.32             8.5      0.058   \n",
       "4            7.2              0.23         0.32             8.5      0.058   \n",
       "\n",
       "   free sulfur dioxide  total sulfur dioxide  density    pH  sulphates  \\\n",
       "0                 45.0                 170.0   1.0010  3.00       0.45   \n",
       "1                 14.0                 132.0   0.9940  3.30       0.49   \n",
       "2                 30.0                  97.0   0.9951  3.26       0.44   \n",
       "3                 47.0                 186.0   0.9956  3.19       0.40   \n",
       "4                 47.0                 186.0   0.9956  3.19       0.40   \n",
       "\n",
       "   alcohol  quality  \n",
       "0      8.8        6  \n",
       "1      9.5        6  \n",
       "2     10.1        6  \n",
       "3      9.9        6  \n",
       "4      9.9        6  "
      ]
     },
     "execution_count": 18,
     "metadata": {},
     "output_type": "execute_result"
    }
   ],
   "source": [
    "wine = pd.read_csv('https://drive.google.com/uc?id=1pCh5Rq54SgzD60yXBAWQiLkBf5aDv5Po', sep=';')\n",
    "wine.head()"
   ]
  },
  {
   "cell_type": "markdown",
   "id": "1c44af3f",
   "metadata": {},
   "source": [
    "#### Step３　wine の行数、列数を求めよう"
   ]
  },
  {
   "cell_type": "code",
   "execution_count": 19,
   "id": "31b1f35b",
   "metadata": {},
   "outputs": [
    {
     "name": "stdout",
     "output_type": "stream",
     "text": [
      "データフレーム 'wine' の行数: 4898\n",
      "データフレーム 'wine' の列数: 12\n"
     ]
    }
   ],
   "source": [
    "# データフレームの行数と列数を求める\n",
    "num_rows, num_columns = wine.shape\n",
    "\n",
    "# 結果を出力\n",
    "print(f\"データフレーム 'wine' の行数: {num_rows}\")\n",
    "print(f\"データフレーム 'wine' の列数: {num_columns}\")"
   ]
  },
  {
   "cell_type": "markdown",
   "id": "3d6a7ade",
   "metadata": {},
   "source": [
    "#### Step４　欠損値があるかないか確認してみよう。もし欠損がれば欠損値がある行を削除し、削除後の行数と列数を表示する"
   ]
  },
  {
   "cell_type": "code",
   "execution_count": 20,
   "id": "0787c2ac",
   "metadata": {},
   "outputs": [
    {
     "name": "stdout",
     "output_type": "stream",
     "text": [
      "欠損値はありません。\n"
     ]
    }
   ],
   "source": [
    "# 欠損値の確認\n",
    "has_missing_values = wine.isna().any().any()\n",
    "\n",
    "if has_missing_values:\n",
    "    # 欠損値を含む行を削除\n",
    "    wine = wine.dropna()\n",
    "\n",
    "    # 削除後の行数と列数を表示\n",
    "    num_rows_after_removal, num_columns_after_removal = wine.shape\n",
    "    print(\"欠損値を削除後:\")\n",
    "    print(f\"行数: {num_rows_after_removal}\")\n",
    "    print(f\"列数: {num_columns_after_removal}\")\n",
    "else:\n",
    "    print(\"欠損値はありません。\")"
   ]
  },
  {
   "cell_type": "markdown",
   "id": "6ffad662",
   "metadata": {},
   "source": [
    "#### Step５　特徴量（X）、正解データ（y）をセットせよ\n",
    "- データフレーム（wine）からの抜き出しは、ilocを使用する\n",
    "- Xの列は、先頭（0）から、最終列（-1）の手前までを指定\n",
    "- yの列は、最終列（-1）\n",
    "- 行はすべての行（:）を選択\n",
    "- Xは大文字、yは小文字とする"
   ]
  },
  {
   "cell_type": "code",
   "execution_count": 21,
   "id": "5e67b73f",
   "metadata": {},
   "outputs": [
    {
     "name": "stdout",
     "output_type": "stream",
     "text": [
      "特徴量 (X):\n",
      "   FIXED ACIDITY  VOLATILE ACIDITY  CITRIC ACID  RESIDUAL SUGAR  CHLORIDES  \\\n",
      "0            7.0              0.27         0.36            20.7      0.045   \n",
      "1            6.3              0.30         0.34             1.6      0.049   \n",
      "2            8.1              0.28         0.40             6.9      0.050   \n",
      "3            7.2              0.23         0.32             8.5      0.058   \n",
      "4            7.2              0.23         0.32             8.5      0.058   \n",
      "\n",
      "   FREE SULFUR DIOXIDE  TOTAL SULFUR DIOXIDE  DENSITY    PH  SULPHATES  \\\n",
      "0                 45.0                 170.0   1.0010  3.00       0.45   \n",
      "1                 14.0                 132.0   0.9940  3.30       0.49   \n",
      "2                 30.0                  97.0   0.9951  3.26       0.44   \n",
      "3                 47.0                 186.0   0.9956  3.19       0.40   \n",
      "4                 47.0                 186.0   0.9956  3.19       0.40   \n",
      "\n",
      "   ALCOHOL  \n",
      "0      8.8  \n",
      "1      9.5  \n",
      "2     10.1  \n",
      "3      9.9  \n",
      "4      9.9  \n",
      "\n",
      "正解データ (y):\n",
      "0    6\n",
      "1    6\n",
      "2    6\n",
      "3    6\n",
      "4    6\n",
      "Name: quality, dtype: int64\n"
     ]
    }
   ],
   "source": [
    "# 特徴量 (X) の抽出\n",
    "X = wine.iloc[:, :-1]\n",
    "\n",
    "# 正解データ (y) の抽出\n",
    "y = wine.iloc[:, -1]\n",
    "\n",
    "# X を大文字、y を小文字に変更\n",
    "X = X.copy()  # データのコピーを作成して変更を加えます\n",
    "X.columns = X.columns.str.upper()\n",
    "y.name = y.name.lower()\n",
    "\n",
    "# 結果の確認\n",
    "print(\"特徴量 (X):\")\n",
    "print(X.head())\n",
    "print(\"\\n正解データ (y):\")\n",
    "print(y.head())"
   ]
  },
  {
   "cell_type": "markdown",
   "id": "76b3a5db",
   "metadata": {},
   "source": [
    "#### Step６　X と y を訓練データとテストデータに分割せよ\n",
    "- train_test_splitをインポートする\n",
    "- テストサイズ は0.3 を指定\n",
    "- random_state は123 を指定"
   ]
  },
  {
   "cell_type": "code",
   "execution_count": 22,
   "id": "498e6b01",
   "metadata": {},
   "outputs": [
    {
     "name": "stdout",
     "output_type": "stream",
     "text": [
      "訓練データの特徴量 (X_train) のサイズ: (3428, 11)\n",
      "テストデータの特徴量 (X_test) のサイズ: (1470, 11)\n",
      "訓練データの正解データ (y_train) のサイズ: (3428,)\n",
      "テストデータの正解データ (y_test) のサイズ: (1470,)\n"
     ]
    }
   ],
   "source": [
    "from sklearn.model_selection import train_test_split\n",
    "\n",
    "# データを訓練データとテストデータに分割\n",
    "X_train, X_test, y_train, y_test = train_test_split(X, y, test_size=0.3, random_state=123)\n",
    "\n",
    "# 分割結果の確認\n",
    "print(\"訓練データの特徴量 (X_train) のサイズ:\", X_train.shape)\n",
    "print(\"テストデータの特徴量 (X_test) のサイズ:\", X_test.shape)\n",
    "print(\"訓練データの正解データ (y_train) のサイズ:\", y_train.shape)\n",
    "print(\"テストデータの正解データ (y_test) のサイズ:\", y_test.shape)"
   ]
  },
  {
   "cell_type": "markdown",
   "id": "1eb3ee42",
   "metadata": {},
   "source": [
    "#### Step７　ランダムフォレストをインポートし、インスタンス化せよ\n",
    "- RandomForestClassifierをインポートする\n",
    "- ハイパーパラメータは\n",
    "- max_depth=5\n",
    "- n_estimators=200\n",
    "- random_state=123"
   ]
  },
  {
   "cell_type": "code",
   "execution_count": 23,
   "id": "26d62fcc",
   "metadata": {},
   "outputs": [
    {
     "name": "stdout",
     "output_type": "stream",
     "text": [
      "RandomForestClassifier(max_depth=5, n_estimators=200, random_state=123)\n"
     ]
    }
   ],
   "source": [
    "from sklearn.ensemble import RandomForestClassifier\n",
    "\n",
    "# ランダムフォレストのインスタンス化\n",
    "rf_classifier = RandomForestClassifier(max_depth=5, n_estimators=200, random_state=123)\n",
    "\n",
    "# モデルの確認\n",
    "print(rf_classifier)"
   ]
  },
  {
   "cell_type": "markdown",
   "id": "3d06e568",
   "metadata": {},
   "source": [
    "#### Step８　訓練データを与えて、モデルを学習させよ"
   ]
  },
  {
   "cell_type": "code",
   "execution_count": 24,
   "id": "5d3b59f3",
   "metadata": {},
   "outputs": [
    {
     "name": "stdout",
     "output_type": "stream",
     "text": [
      "ランダムフォレストモデルの学習が完了しました。\n"
     ]
    }
   ],
   "source": [
    "# ランダムフォレストモデルを訓練データで学習させる\n",
    "rf_classifier.fit(X_train, y_train)\n",
    "\n",
    "# モデルの学習が完了したことを確認\n",
    "print(\"ランダムフォレストモデルの学習が完了しました。\")"
   ]
  },
  {
   "cell_type": "markdown",
   "id": "36a5c8dc",
   "metadata": {},
   "source": [
    "#### Step９　訓練データとテストデータの正解率を計算する"
   ]
  },
  {
   "cell_type": "code",
   "execution_count": 25,
   "id": "0cb76e3a",
   "metadata": {},
   "outputs": [
    {
     "name": "stdout",
     "output_type": "stream",
     "text": [
      "訓練データの正解率: 0.59\n",
      "テストデータの正解率: 0.56\n"
     ]
    }
   ],
   "source": [
    "from sklearn.metrics import accuracy_score\n",
    "\n",
    "# 訓練データでの予測\n",
    "y_train_pred = rf_classifier.predict(X_train)\n",
    "# テストデータでの予測\n",
    "y_test_pred = rf_classifier.predict(X_test)\n",
    "\n",
    "# 訓練データの正解率を計算\n",
    "train_accuracy = accuracy_score(y_train, y_train_pred)\n",
    "\n",
    "# テストデータの正解率を計算\n",
    "test_accuracy = accuracy_score(y_test, y_test_pred)\n",
    "\n",
    "# 正解率の表示\n",
    "print(f\"訓練データの正解率: {train_accuracy:.2f}\")\n",
    "print(f\"テストデータの正解率: {test_accuracy:.2f}\")"
   ]
  },
  {
   "cell_type": "markdown",
   "id": "67593187",
   "metadata": {},
   "source": [
    "#### <font color='green'>ここで、正解率があまり良くないので、「qualityを3段階にまとめる」変更をおこなって分類問題を解いてみることにする</font>"
   ]
  },
  {
   "cell_type": "markdown",
   "id": "eb222f70",
   "metadata": {},
   "source": [
    "#### Step１０　ワインの各品質のデータがいくつあるか数えてみる。qualityの3がいくつ？、4がいくつ？・・・を調べる\n",
    "- value_countsを使う\n",
    "- sort_indexを使う"
   ]
  },
  {
   "cell_type": "code",
   "execution_count": 26,
   "id": "183be635",
   "metadata": {},
   "outputs": [
    {
     "name": "stdout",
     "output_type": "stream",
     "text": [
      "ワインの品質ごとのデータ数:\n",
      "3      20\n",
      "4     163\n",
      "5    1457\n",
      "6    2198\n",
      "7     880\n",
      "8     175\n",
      "9       5\n",
      "Name: quality, dtype: int64\n"
     ]
    }
   ],
   "source": [
    "# ワインの品質ごとのデータ数を数える\n",
    "quality_counts = wine['quality'].value_counts().sort_index()\n",
    "\n",
    "# 各品質のデータ数を表示\n",
    "print(\"ワインの品質ごとのデータ数:\")\n",
    "print(quality_counts)"
   ]
  },
  {
   "cell_type": "markdown",
   "id": "765ebfe5",
   "metadata": {},
   "source": [
    "#### Step１１　上記の数えたデータをグラフ化する。\n",
    "- Seriesに.plot()とやるとグラフが書けます"
   ]
  },
  {
   "cell_type": "code",
   "execution_count": 27,
   "id": "47a05543",
   "metadata": {},
   "outputs": [
    {
     "data": {
      "image/png": "[encoded data removed]",
      "text/plain": [
       "<Figure size 640x480 with 1 Axes>"
      ]
     },
     "metadata": {},
     "output_type": "display_data"
    }
   ],
   "source": [
    "import matplotlib.pyplot as plt\n",
    "plt.rcParams['font.family'] = 'MS Gothic'\n",
    "\n",
    "# ワインの品質ごとのデータ数をグラフ化\n",
    "quality_counts.plot(kind='bar', color='skyblue')\n",
    "plt.title('ワインの品質ごとのデータ数')\n",
    "plt.xlabel('品質')\n",
    "plt.ylabel('データ数')\n",
    "plt.xticks(rotation=0)  # X軸のラベルを回転しないように設定\n",
    "plt.show()"
   ]
  },
  {
   "cell_type": "markdown",
   "id": "3789ab5b",
   "metadata": {},
   "source": [
    "#### Step１２　qualityを以下のように3段階に変換するための辞書を作成する\n",
    "- 辞書は、「キー：値」のペアをカンマで区切り、{}で囲む\n",
    "~~~\n",
    "変換前　変換後\n",
    "3       0\n",
    "4       0\n",
    "5       1\n",
    "6       1\n",
    "7       1\n",
    "8       2\n",
    "9       2\n",
    "~~~"
   ]
  },
  {
   "cell_type": "code",
   "execution_count": 28,
   "id": "364df5c8",
   "metadata": {},
   "outputs": [],
   "source": [
    "quality_mapping = {\n",
    "    3: 0,\n",
    "    4: 0,\n",
    "    5: 1,\n",
    "    6: 1,\n",
    "    7: 1,\n",
    "    8: 2,\n",
    "    9: 2\n",
    "}"
   ]
  },
  {
   "cell_type": "markdown",
   "id": "582e2b21",
   "metadata": {},
   "source": [
    "#### Step１３　上記辞書を使って、qualityを0 , 1, 2 に変換せよ\n",
    "- qualityに上記辞書を使った map 関数を適用する"
   ]
  },
  {
   "cell_type": "code",
   "execution_count": 29,
   "id": "69d9ad64",
   "metadata": {},
   "outputs": [
    {
     "name": "stdout",
     "output_type": "stream",
     "text": [
      "   fixed acidity  volatile acidity  citric acid  residual sugar  chlorides  \\\n",
      "0            7.0              0.27         0.36            20.7      0.045   \n",
      "1            6.3              0.30         0.34             1.6      0.049   \n",
      "2            8.1              0.28         0.40             6.9      0.050   \n",
      "3            7.2              0.23         0.32             8.5      0.058   \n",
      "4            7.2              0.23         0.32             8.5      0.058   \n",
      "\n",
      "   free sulfur dioxide  total sulfur dioxide  density    pH  sulphates  \\\n",
      "0                 45.0                 170.0   1.0010  3.00       0.45   \n",
      "1                 14.0                 132.0   0.9940  3.30       0.49   \n",
      "2                 30.0                  97.0   0.9951  3.26       0.44   \n",
      "3                 47.0                 186.0   0.9956  3.19       0.40   \n",
      "4                 47.0                 186.0   0.9956  3.19       0.40   \n",
      "\n",
      "   alcohol  quality  \n",
      "0      8.8        1  \n",
      "1      9.5        1  \n",
      "2     10.1        1  \n",
      "3      9.9        1  \n",
      "4      9.9        1  \n"
     ]
    }
   ],
   "source": [
    "# Quality列を0, 1, 2に変換\n",
    "wine['quality'] = wine['quality'].map(quality_mapping)\n",
    "\n",
    "# 変換後のデータを表示\n",
    "print(wine.head())"
   ]
  },
  {
   "cell_type": "markdown",
   "id": "005d51fe",
   "metadata": {},
   "source": [
    "#### Step１４　正解データ（y）をセットしなおす"
   ]
  },
  {
   "cell_type": "code",
   "execution_count": 30,
   "id": "ecdfe6eb",
   "metadata": {
    "scrolled": true
   },
   "outputs": [
    {
     "name": "stdout",
     "output_type": "stream",
     "text": [
      "0    1\n",
      "1    1\n",
      "2    1\n",
      "3    1\n",
      "4    1\n",
      "Name: quality, dtype: int64\n"
     ]
    }
   ],
   "source": [
    "# Quality列を0, 1, 2に変換\n",
    "# wine['quality'] = wine['quality'].map(quality_mapping)\n",
    "\n",
    "# 正解データ (y) を再設定\n",
    "y = wine['quality']\n",
    "\n",
    "# yの先頭5行を表示して確認\n",
    "print(y.head())"
   ]
  },
  {
   "cell_type": "code",
   "execution_count": 31,
   "id": "81d6c918",
   "metadata": {},
   "outputs": [],
   "source": [
    "# \"quality\" 列の欠損値を平均値で置き換える\n",
    "average_quality = wine['quality'].mean()\n",
    "wine['quality'].fillna(average_quality, inplace=True)"
   ]
  },
  {
   "cell_type": "markdown",
   "id": "9a9c5a9b",
   "metadata": {},
   "source": [
    "#### Step１５　X と y を訓練データとテストデータに分割せよ\n",
    "- テストサイズ は0.3 を指定\n",
    "- random_state は123 を指定"
   ]
  },
  {
   "cell_type": "code",
   "execution_count": 32,
   "id": "46134307",
   "metadata": {},
   "outputs": [
    {
     "name": "stdout",
     "output_type": "stream",
     "text": [
      "訓練データの特徴量 (X_train) のサイズ: (3428, 11)\n",
      "テストデータの特徴量 (X_test) のサイズ: (1470, 11)\n",
      "訓練データの正解データ (y_train) のサイズ: (3428,)\n",
      "テストデータの正解データ (y_test) のサイズ: (1470,)\n"
     ]
    }
   ],
   "source": [
    "from sklearn.model_selection import train_test_split\n",
    "\n",
    "# データを訓練データとテストデータに分割\n",
    "X_train, X_test, y_train, y_test = train_test_split(X, y, test_size=0.3, random_state=123)\n",
    "\n",
    "# 分割結果の確認\n",
    "print(\"訓練データの特徴量 (X_train) のサイズ:\", X_train.shape)\n",
    "print(\"テストデータの特徴量 (X_test) のサイズ:\", X_test.shape)\n",
    "print(\"訓練データの正解データ (y_train) のサイズ:\", y_train.shape)\n",
    "print(\"テストデータの正解データ (y_test) のサイズ:\", y_test.shape)"
   ]
  },
  {
   "cell_type": "markdown",
   "id": "c670cc7b",
   "metadata": {},
   "source": [
    "#### Step１６　ランダムフォレストをインポートし、インスタンス化せよ\n",
    "- ハイパーパラメータは\n",
    "- max_depth=5\n",
    "- n_estimators=200\n",
    "- random_state=123"
   ]
  },
  {
   "cell_type": "code",
   "execution_count": 33,
   "id": "26f4ad19",
   "metadata": {},
   "outputs": [
    {
     "name": "stdout",
     "output_type": "stream",
     "text": [
      "RandomForestClassifier(max_depth=5, n_estimators=200, random_state=123)\n"
     ]
    }
   ],
   "source": [
    "from sklearn.ensemble import RandomForestClassifier\n",
    "\n",
    "# ランダムフォレストのインスタンス化\n",
    "rf_classifier = RandomForestClassifier(max_depth=5, n_estimators=200, random_state=123)\n",
    "\n",
    "# モデルの確認\n",
    "print(rf_classifier)"
   ]
  },
  {
   "cell_type": "code",
   "execution_count": 34,
   "id": "2e70eff8",
   "metadata": {},
   "outputs": [
    {
     "name": "stdout",
     "output_type": "stream",
     "text": [
      "fixed acidity           0\n",
      "volatile acidity        0\n",
      "citric acid             0\n",
      "residual sugar          0\n",
      "chlorides               0\n",
      "free sulfur dioxide     0\n",
      "total sulfur dioxide    0\n",
      "density                 0\n",
      "pH                      0\n",
      "sulphates               0\n",
      "alcohol                 0\n",
      "quality                 0\n",
      "dtype: int64\n"
     ]
    }
   ],
   "source": [
    "# 欠損値の確認\n",
    "print(wine.isnull().sum())"
   ]
  },
  {
   "cell_type": "markdown",
   "id": "ac2801c5",
   "metadata": {},
   "source": [
    "#### Step１７　訓練データを与えて、モデルを学習させよ"
   ]
  },
  {
   "cell_type": "code",
   "execution_count": 35,
   "id": "b12464f6",
   "metadata": {},
   "outputs": [
    {
     "name": "stdout",
     "output_type": "stream",
     "text": [
      "ランダムフォレストモデルの学習が完了しました。\n"
     ]
    }
   ],
   "source": [
    "# ランダムフォレストモデルを訓練データで学習させる\n",
    "rf_classifier.fit(X_train, y_train)\n",
    "\n",
    "# モデルの学習が完了したことを確認\n",
    "print(\"ランダムフォレストモデルの学習が完了しました。\")\n"
   ]
  },
  {
   "cell_type": "markdown",
   "id": "060bda3d",
   "metadata": {},
   "source": [
    "#### Step１８　訓練データに対する正解率を求めよ"
   ]
  },
  {
   "cell_type": "code",
   "execution_count": 36,
   "id": "5bc55063",
   "metadata": {},
   "outputs": [
    {
     "name": "stdout",
     "output_type": "stream",
     "text": [
      "訓練データの正解率: 0.93\n"
     ]
    }
   ],
   "source": [
    "from sklearn.metrics import accuracy_score\n",
    "\n",
    "# 訓練データでの予測\n",
    "y_train_pred = rf_classifier.predict(X_train)\n",
    "\n",
    "# 訓練データの正解率を計算\n",
    "train_accuracy = accuracy_score(y_train, y_train_pred)\n",
    "\n",
    "# 正解率の表示\n",
    "print(f\"訓練データの正解率: {train_accuracy:.2f}\")"
   ]
  },
  {
   "cell_type": "markdown",
   "id": "6201c0f8",
   "metadata": {},
   "source": [
    "#### Step１９　テストデータに対する正解率を求めよ"
   ]
  },
  {
   "cell_type": "code",
   "execution_count": 37,
   "id": "b795917e",
   "metadata": {},
   "outputs": [
    {
     "name": "stdout",
     "output_type": "stream",
     "text": [
      "テストデータの正解率: 0.9285714285714286\n"
     ]
    }
   ],
   "source": [
    "# テストデータでの予測\n",
    "test_accuracy = rf_classifier.score(X_test, y_test)\n",
    "print(\"テストデータの正解率:\", test_accuracy)"
   ]
  },
  {
   "cell_type": "markdown",
   "id": "cf4fd20e",
   "metadata": {},
   "source": [
    "#### Step２０　Step１９求めた正解率とStep９の正解率と比べてみよう"
   ]
  },
  {
   "cell_type": "code",
   "execution_count": 38,
   "id": "f3412ae7",
   "metadata": {},
   "outputs": [
    {
     "name": "stdout",
     "output_type": "stream",
     "text": [
      "Step18: 訓練データの正解率: 0.9305717619603268\n",
      "Step19: テストデータの正解率: 0.9285714285714286\n",
      "Step20: テストデータの正解率と訓練データの正解率の差: -0.0020003333888981567\n"
     ]
    }
   ],
   "source": [
    "# Step18: 訓練データでの正解率\n",
    "train_accuracy = rf_classifier.score(X_train, y_train)\n",
    "print(\"Step18: 訓練データの正解率:\", train_accuracy)\n",
    "\n",
    "# Step19: テストデータでの正解率\n",
    "test_accuracy = rf_classifier.score(X_test, y_test)\n",
    "print(\"Step19: テストデータの正解率:\", test_accuracy)\n",
    "\n",
    "# Step20: Step19とStep9の正解率を比較\n",
    "print(\"Step20: テストデータの正解率と訓練データの正解率の差:\", test_accuracy - train_accuracy)"
   ]
  }
 ],
 "metadata": {
  "kernelspec": {
   "display_name": "Python 3 (ipykernel)",
   "language": "python",
   "name": "python3"
  },
  "language_info": {
   "codemirror_mode": {
    "name": "ipython",
    "version": 3
   },
   "file_extension": ".py",
   "mimetype": "text/x-python",
   "name": "python",
   "nbconvert_exporter": "python",
   "pygments_lexer": "ipython3",
   "version": "3.9.13"
  },
  "toc": {
   "base_numbering": 1,
   "nav_menu": {},
   "number_sections": true,
   "sideBar": true,
   "skip_h1_title": false,
   "title_cell": "Table of Contents",
   "title_sidebar": "Contents",
   "toc_cell": false,
   "toc_position": {},
   "toc_section_display": true,
   "toc_window_display": false
  }
 },
 "nbformat": 4,
 "nbformat_minor": 5
}
